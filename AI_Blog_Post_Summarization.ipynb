{
  "nbformat": 4,
  "nbformat_minor": 0,
  "metadata": {
    "colab": {
      "provenance": [],
      "authorship_tag": "ABX9TyOSWZHIE+xGsHYUseTyprOP",
      "include_colab_link": true
    },
    "kernelspec": {
      "name": "python3",
      "display_name": "Python 3"
    },
    "language_info": {
      "name": "python"
    },
    "widgets": {
      "application/vnd.jupyter.widget-state+json": {
        "77290a40f3d34abd8ed09482d54da8d8": {
          "model_module": "@jupyter-widgets/controls",
          "model_name": "HBoxModel",
          "model_module_version": "1.5.0",
          "state": {
            "_dom_classes": [],
            "_model_module": "@jupyter-widgets/controls",
            "_model_module_version": "1.5.0",
            "_model_name": "HBoxModel",
            "_view_count": null,
            "_view_module": "@jupyter-widgets/controls",
            "_view_module_version": "1.5.0",
            "_view_name": "HBoxView",
            "box_style": "",
            "children": [
              "IPY_MODEL_d130c10af1b24d7f97c14bd0c5451551",
              "IPY_MODEL_a9a305b67a2344348b8898864387531e",
              "IPY_MODEL_72f8972961b8426bbef6372daa5348cc"
            ],
            "layout": "IPY_MODEL_fc3f046b591248cd84ff5fa1dc4e81d7"
          }
        },
        "d130c10af1b24d7f97c14bd0c5451551": {
          "model_module": "@jupyter-widgets/controls",
          "model_name": "HTMLModel",
          "model_module_version": "1.5.0",
          "state": {
            "_dom_classes": [],
            "_model_module": "@jupyter-widgets/controls",
            "_model_module_version": "1.5.0",
            "_model_name": "HTMLModel",
            "_view_count": null,
            "_view_module": "@jupyter-widgets/controls",
            "_view_module_version": "1.5.0",
            "_view_name": "HTMLView",
            "description": "",
            "description_tooltip": null,
            "layout": "IPY_MODEL_42d26ce0499a4995b8b11c9f5fe7de69",
            "placeholder": "​",
            "style": "IPY_MODEL_99f84fef2c6c4902b0727b0f25f04f07",
            "value": "config.json: 100%"
          }
        },
        "a9a305b67a2344348b8898864387531e": {
          "model_module": "@jupyter-widgets/controls",
          "model_name": "FloatProgressModel",
          "model_module_version": "1.5.0",
          "state": {
            "_dom_classes": [],
            "_model_module": "@jupyter-widgets/controls",
            "_model_module_version": "1.5.0",
            "_model_name": "FloatProgressModel",
            "_view_count": null,
            "_view_module": "@jupyter-widgets/controls",
            "_view_module_version": "1.5.0",
            "_view_name": "ProgressView",
            "bar_style": "success",
            "description": "",
            "description_tooltip": null,
            "layout": "IPY_MODEL_5a68a7adece6427e8cc3aa12b83dc76b",
            "max": 1802,
            "min": 0,
            "orientation": "horizontal",
            "style": "IPY_MODEL_726d5b722886444c92e0369edc0208ed",
            "value": 1802
          }
        },
        "72f8972961b8426bbef6372daa5348cc": {
          "model_module": "@jupyter-widgets/controls",
          "model_name": "HTMLModel",
          "model_module_version": "1.5.0",
          "state": {
            "_dom_classes": [],
            "_model_module": "@jupyter-widgets/controls",
            "_model_module_version": "1.5.0",
            "_model_name": "HTMLModel",
            "_view_count": null,
            "_view_module": "@jupyter-widgets/controls",
            "_view_module_version": "1.5.0",
            "_view_name": "HTMLView",
            "description": "",
            "description_tooltip": null,
            "layout": "IPY_MODEL_5792f214a61f44dea47edfcce80b64a6",
            "placeholder": "​",
            "style": "IPY_MODEL_462ed512ec67467fb4fad7eec9d69dca",
            "value": " 1.80k/1.80k [00:00&lt;00:00, 106kB/s]"
          }
        },
        "fc3f046b591248cd84ff5fa1dc4e81d7": {
          "model_module": "@jupyter-widgets/base",
          "model_name": "LayoutModel",
          "model_module_version": "1.2.0",
          "state": {
            "_model_module": "@jupyter-widgets/base",
            "_model_module_version": "1.2.0",
            "_model_name": "LayoutModel",
            "_view_count": null,
            "_view_module": "@jupyter-widgets/base",
            "_view_module_version": "1.2.0",
            "_view_name": "LayoutView",
            "align_content": null,
            "align_items": null,
            "align_self": null,
            "border": null,
            "bottom": null,
            "display": null,
            "flex": null,
            "flex_flow": null,
            "grid_area": null,
            "grid_auto_columns": null,
            "grid_auto_flow": null,
            "grid_auto_rows": null,
            "grid_column": null,
            "grid_gap": null,
            "grid_row": null,
            "grid_template_areas": null,
            "grid_template_columns": null,
            "grid_template_rows": null,
            "height": null,
            "justify_content": null,
            "justify_items": null,
            "left": null,
            "margin": null,
            "max_height": null,
            "max_width": null,
            "min_height": null,
            "min_width": null,
            "object_fit": null,
            "object_position": null,
            "order": null,
            "overflow": null,
            "overflow_x": null,
            "overflow_y": null,
            "padding": null,
            "right": null,
            "top": null,
            "visibility": null,
            "width": null
          }
        },
        "42d26ce0499a4995b8b11c9f5fe7de69": {
          "model_module": "@jupyter-widgets/base",
          "model_name": "LayoutModel",
          "model_module_version": "1.2.0",
          "state": {
            "_model_module": "@jupyter-widgets/base",
            "_model_module_version": "1.2.0",
            "_model_name": "LayoutModel",
            "_view_count": null,
            "_view_module": "@jupyter-widgets/base",
            "_view_module_version": "1.2.0",
            "_view_name": "LayoutView",
            "align_content": null,
            "align_items": null,
            "align_self": null,
            "border": null,
            "bottom": null,
            "display": null,
            "flex": null,
            "flex_flow": null,
            "grid_area": null,
            "grid_auto_columns": null,
            "grid_auto_flow": null,
            "grid_auto_rows": null,
            "grid_column": null,
            "grid_gap": null,
            "grid_row": null,
            "grid_template_areas": null,
            "grid_template_columns": null,
            "grid_template_rows": null,
            "height": null,
            "justify_content": null,
            "justify_items": null,
            "left": null,
            "margin": null,
            "max_height": null,
            "max_width": null,
            "min_height": null,
            "min_width": null,
            "object_fit": null,
            "object_position": null,
            "order": null,
            "overflow": null,
            "overflow_x": null,
            "overflow_y": null,
            "padding": null,
            "right": null,
            "top": null,
            "visibility": null,
            "width": null
          }
        },
        "99f84fef2c6c4902b0727b0f25f04f07": {
          "model_module": "@jupyter-widgets/controls",
          "model_name": "DescriptionStyleModel",
          "model_module_version": "1.5.0",
          "state": {
            "_model_module": "@jupyter-widgets/controls",
            "_model_module_version": "1.5.0",
            "_model_name": "DescriptionStyleModel",
            "_view_count": null,
            "_view_module": "@jupyter-widgets/base",
            "_view_module_version": "1.2.0",
            "_view_name": "StyleView",
            "description_width": ""
          }
        },
        "5a68a7adece6427e8cc3aa12b83dc76b": {
          "model_module": "@jupyter-widgets/base",
          "model_name": "LayoutModel",
          "model_module_version": "1.2.0",
          "state": {
            "_model_module": "@jupyter-widgets/base",
            "_model_module_version": "1.2.0",
            "_model_name": "LayoutModel",
            "_view_count": null,
            "_view_module": "@jupyter-widgets/base",
            "_view_module_version": "1.2.0",
            "_view_name": "LayoutView",
            "align_content": null,
            "align_items": null,
            "align_self": null,
            "border": null,
            "bottom": null,
            "display": null,
            "flex": null,
            "flex_flow": null,
            "grid_area": null,
            "grid_auto_columns": null,
            "grid_auto_flow": null,
            "grid_auto_rows": null,
            "grid_column": null,
            "grid_gap": null,
            "grid_row": null,
            "grid_template_areas": null,
            "grid_template_columns": null,
            "grid_template_rows": null,
            "height": null,
            "justify_content": null,
            "justify_items": null,
            "left": null,
            "margin": null,
            "max_height": null,
            "max_width": null,
            "min_height": null,
            "min_width": null,
            "object_fit": null,
            "object_position": null,
            "order": null,
            "overflow": null,
            "overflow_x": null,
            "overflow_y": null,
            "padding": null,
            "right": null,
            "top": null,
            "visibility": null,
            "width": null
          }
        },
        "726d5b722886444c92e0369edc0208ed": {
          "model_module": "@jupyter-widgets/controls",
          "model_name": "ProgressStyleModel",
          "model_module_version": "1.5.0",
          "state": {
            "_model_module": "@jupyter-widgets/controls",
            "_model_module_version": "1.5.0",
            "_model_name": "ProgressStyleModel",
            "_view_count": null,
            "_view_module": "@jupyter-widgets/base",
            "_view_module_version": "1.2.0",
            "_view_name": "StyleView",
            "bar_color": null,
            "description_width": ""
          }
        },
        "5792f214a61f44dea47edfcce80b64a6": {
          "model_module": "@jupyter-widgets/base",
          "model_name": "LayoutModel",
          "model_module_version": "1.2.0",
          "state": {
            "_model_module": "@jupyter-widgets/base",
            "_model_module_version": "1.2.0",
            "_model_name": "LayoutModel",
            "_view_count": null,
            "_view_module": "@jupyter-widgets/base",
            "_view_module_version": "1.2.0",
            "_view_name": "LayoutView",
            "align_content": null,
            "align_items": null,
            "align_self": null,
            "border": null,
            "bottom": null,
            "display": null,
            "flex": null,
            "flex_flow": null,
            "grid_area": null,
            "grid_auto_columns": null,
            "grid_auto_flow": null,
            "grid_auto_rows": null,
            "grid_column": null,
            "grid_gap": null,
            "grid_row": null,
            "grid_template_areas": null,
            "grid_template_columns": null,
            "grid_template_rows": null,
            "height": null,
            "justify_content": null,
            "justify_items": null,
            "left": null,
            "margin": null,
            "max_height": null,
            "max_width": null,
            "min_height": null,
            "min_width": null,
            "object_fit": null,
            "object_position": null,
            "order": null,
            "overflow": null,
            "overflow_x": null,
            "overflow_y": null,
            "padding": null,
            "right": null,
            "top": null,
            "visibility": null,
            "width": null
          }
        },
        "462ed512ec67467fb4fad7eec9d69dca": {
          "model_module": "@jupyter-widgets/controls",
          "model_name": "DescriptionStyleModel",
          "model_module_version": "1.5.0",
          "state": {
            "_model_module": "@jupyter-widgets/controls",
            "_model_module_version": "1.5.0",
            "_model_name": "DescriptionStyleModel",
            "_view_count": null,
            "_view_module": "@jupyter-widgets/base",
            "_view_module_version": "1.2.0",
            "_view_name": "StyleView",
            "description_width": ""
          }
        },
        "1aeaf1b647e140859b5c2e42e8b1a6b7": {
          "model_module": "@jupyter-widgets/controls",
          "model_name": "HBoxModel",
          "model_module_version": "1.5.0",
          "state": {
            "_dom_classes": [],
            "_model_module": "@jupyter-widgets/controls",
            "_model_module_version": "1.5.0",
            "_model_name": "HBoxModel",
            "_view_count": null,
            "_view_module": "@jupyter-widgets/controls",
            "_view_module_version": "1.5.0",
            "_view_name": "HBoxView",
            "box_style": "",
            "children": [
              "IPY_MODEL_57fc41079c5d4dfca7bf1ab816defaee",
              "IPY_MODEL_f986b7f2925343879d4c8176c7f3acb7",
              "IPY_MODEL_33654c967e1a4f20bc370830f9c41ff3"
            ],
            "layout": "IPY_MODEL_fb9b0b84bcf04d5893cbd400b64ed20a"
          }
        },
        "57fc41079c5d4dfca7bf1ab816defaee": {
          "model_module": "@jupyter-widgets/controls",
          "model_name": "HTMLModel",
          "model_module_version": "1.5.0",
          "state": {
            "_dom_classes": [],
            "_model_module": "@jupyter-widgets/controls",
            "_model_module_version": "1.5.0",
            "_model_name": "HTMLModel",
            "_view_count": null,
            "_view_module": "@jupyter-widgets/controls",
            "_view_module_version": "1.5.0",
            "_view_name": "HTMLView",
            "description": "",
            "description_tooltip": null,
            "layout": "IPY_MODEL_2f106b557fb0445292f04204f8a2b46a",
            "placeholder": "​",
            "style": "IPY_MODEL_ff76e7a28ff14e208396bdcf039f1135",
            "value": "pytorch_model.bin: 100%"
          }
        },
        "f986b7f2925343879d4c8176c7f3acb7": {
          "model_module": "@jupyter-widgets/controls",
          "model_name": "FloatProgressModel",
          "model_module_version": "1.5.0",
          "state": {
            "_dom_classes": [],
            "_model_module": "@jupyter-widgets/controls",
            "_model_module_version": "1.5.0",
            "_model_name": "FloatProgressModel",
            "_view_count": null,
            "_view_module": "@jupyter-widgets/controls",
            "_view_module_version": "1.5.0",
            "_view_name": "ProgressView",
            "bar_style": "success",
            "description": "",
            "description_tooltip": null,
            "layout": "IPY_MODEL_a76a8059af3e4dabafd0b22804e04a5e",
            "max": 1222317369,
            "min": 0,
            "orientation": "horizontal",
            "style": "IPY_MODEL_d4a0cb8569624e41af0c9a0d039cf2b6",
            "value": 1222317369
          }
        },
        "33654c967e1a4f20bc370830f9c41ff3": {
          "model_module": "@jupyter-widgets/controls",
          "model_name": "HTMLModel",
          "model_module_version": "1.5.0",
          "state": {
            "_dom_classes": [],
            "_model_module": "@jupyter-widgets/controls",
            "_model_module_version": "1.5.0",
            "_model_name": "HTMLModel",
            "_view_count": null,
            "_view_module": "@jupyter-widgets/controls",
            "_view_module_version": "1.5.0",
            "_view_name": "HTMLView",
            "description": "",
            "description_tooltip": null,
            "layout": "IPY_MODEL_30d7c5b5bf834d9081903325bb56ee81",
            "placeholder": "​",
            "style": "IPY_MODEL_5f2ab233cdcf40e3b91d5cc993acb3ac",
            "value": " 1.22G/1.22G [00:12&lt;00:00, 128MB/s]"
          }
        },
        "fb9b0b84bcf04d5893cbd400b64ed20a": {
          "model_module": "@jupyter-widgets/base",
          "model_name": "LayoutModel",
          "model_module_version": "1.2.0",
          "state": {
            "_model_module": "@jupyter-widgets/base",
            "_model_module_version": "1.2.0",
            "_model_name": "LayoutModel",
            "_view_count": null,
            "_view_module": "@jupyter-widgets/base",
            "_view_module_version": "1.2.0",
            "_view_name": "LayoutView",
            "align_content": null,
            "align_items": null,
            "align_self": null,
            "border": null,
            "bottom": null,
            "display": null,
            "flex": null,
            "flex_flow": null,
            "grid_area": null,
            "grid_auto_columns": null,
            "grid_auto_flow": null,
            "grid_auto_rows": null,
            "grid_column": null,
            "grid_gap": null,
            "grid_row": null,
            "grid_template_areas": null,
            "grid_template_columns": null,
            "grid_template_rows": null,
            "height": null,
            "justify_content": null,
            "justify_items": null,
            "left": null,
            "margin": null,
            "max_height": null,
            "max_width": null,
            "min_height": null,
            "min_width": null,
            "object_fit": null,
            "object_position": null,
            "order": null,
            "overflow": null,
            "overflow_x": null,
            "overflow_y": null,
            "padding": null,
            "right": null,
            "top": null,
            "visibility": null,
            "width": null
          }
        },
        "2f106b557fb0445292f04204f8a2b46a": {
          "model_module": "@jupyter-widgets/base",
          "model_name": "LayoutModel",
          "model_module_version": "1.2.0",
          "state": {
            "_model_module": "@jupyter-widgets/base",
            "_model_module_version": "1.2.0",
            "_model_name": "LayoutModel",
            "_view_count": null,
            "_view_module": "@jupyter-widgets/base",
            "_view_module_version": "1.2.0",
            "_view_name": "LayoutView",
            "align_content": null,
            "align_items": null,
            "align_self": null,
            "border": null,
            "bottom": null,
            "display": null,
            "flex": null,
            "flex_flow": null,
            "grid_area": null,
            "grid_auto_columns": null,
            "grid_auto_flow": null,
            "grid_auto_rows": null,
            "grid_column": null,
            "grid_gap": null,
            "grid_row": null,
            "grid_template_areas": null,
            "grid_template_columns": null,
            "grid_template_rows": null,
            "height": null,
            "justify_content": null,
            "justify_items": null,
            "left": null,
            "margin": null,
            "max_height": null,
            "max_width": null,
            "min_height": null,
            "min_width": null,
            "object_fit": null,
            "object_position": null,
            "order": null,
            "overflow": null,
            "overflow_x": null,
            "overflow_y": null,
            "padding": null,
            "right": null,
            "top": null,
            "visibility": null,
            "width": null
          }
        },
        "ff76e7a28ff14e208396bdcf039f1135": {
          "model_module": "@jupyter-widgets/controls",
          "model_name": "DescriptionStyleModel",
          "model_module_version": "1.5.0",
          "state": {
            "_model_module": "@jupyter-widgets/controls",
            "_model_module_version": "1.5.0",
            "_model_name": "DescriptionStyleModel",
            "_view_count": null,
            "_view_module": "@jupyter-widgets/base",
            "_view_module_version": "1.2.0",
            "_view_name": "StyleView",
            "description_width": ""
          }
        },
        "a76a8059af3e4dabafd0b22804e04a5e": {
          "model_module": "@jupyter-widgets/base",
          "model_name": "LayoutModel",
          "model_module_version": "1.2.0",
          "state": {
            "_model_module": "@jupyter-widgets/base",
            "_model_module_version": "1.2.0",
            "_model_name": "LayoutModel",
            "_view_count": null,
            "_view_module": "@jupyter-widgets/base",
            "_view_module_version": "1.2.0",
            "_view_name": "LayoutView",
            "align_content": null,
            "align_items": null,
            "align_self": null,
            "border": null,
            "bottom": null,
            "display": null,
            "flex": null,
            "flex_flow": null,
            "grid_area": null,
            "grid_auto_columns": null,
            "grid_auto_flow": null,
            "grid_auto_rows": null,
            "grid_column": null,
            "grid_gap": null,
            "grid_row": null,
            "grid_template_areas": null,
            "grid_template_columns": null,
            "grid_template_rows": null,
            "height": null,
            "justify_content": null,
            "justify_items": null,
            "left": null,
            "margin": null,
            "max_height": null,
            "max_width": null,
            "min_height": null,
            "min_width": null,
            "object_fit": null,
            "object_position": null,
            "order": null,
            "overflow": null,
            "overflow_x": null,
            "overflow_y": null,
            "padding": null,
            "right": null,
            "top": null,
            "visibility": null,
            "width": null
          }
        },
        "d4a0cb8569624e41af0c9a0d039cf2b6": {
          "model_module": "@jupyter-widgets/controls",
          "model_name": "ProgressStyleModel",
          "model_module_version": "1.5.0",
          "state": {
            "_model_module": "@jupyter-widgets/controls",
            "_model_module_version": "1.5.0",
            "_model_name": "ProgressStyleModel",
            "_view_count": null,
            "_view_module": "@jupyter-widgets/base",
            "_view_module_version": "1.2.0",
            "_view_name": "StyleView",
            "bar_color": null,
            "description_width": ""
          }
        },
        "30d7c5b5bf834d9081903325bb56ee81": {
          "model_module": "@jupyter-widgets/base",
          "model_name": "LayoutModel",
          "model_module_version": "1.2.0",
          "state": {
            "_model_module": "@jupyter-widgets/base",
            "_model_module_version": "1.2.0",
            "_model_name": "LayoutModel",
            "_view_count": null,
            "_view_module": "@jupyter-widgets/base",
            "_view_module_version": "1.2.0",
            "_view_name": "LayoutView",
            "align_content": null,
            "align_items": null,
            "align_self": null,
            "border": null,
            "bottom": null,
            "display": null,
            "flex": null,
            "flex_flow": null,
            "grid_area": null,
            "grid_auto_columns": null,
            "grid_auto_flow": null,
            "grid_auto_rows": null,
            "grid_column": null,
            "grid_gap": null,
            "grid_row": null,
            "grid_template_areas": null,
            "grid_template_columns": null,
            "grid_template_rows": null,
            "height": null,
            "justify_content": null,
            "justify_items": null,
            "left": null,
            "margin": null,
            "max_height": null,
            "max_width": null,
            "min_height": null,
            "min_width": null,
            "object_fit": null,
            "object_position": null,
            "order": null,
            "overflow": null,
            "overflow_x": null,
            "overflow_y": null,
            "padding": null,
            "right": null,
            "top": null,
            "visibility": null,
            "width": null
          }
        },
        "5f2ab233cdcf40e3b91d5cc993acb3ac": {
          "model_module": "@jupyter-widgets/controls",
          "model_name": "DescriptionStyleModel",
          "model_module_version": "1.5.0",
          "state": {
            "_model_module": "@jupyter-widgets/controls",
            "_model_module_version": "1.5.0",
            "_model_name": "DescriptionStyleModel",
            "_view_count": null,
            "_view_module": "@jupyter-widgets/base",
            "_view_module_version": "1.2.0",
            "_view_name": "StyleView",
            "description_width": ""
          }
        },
        "e18406d0527d4da28f6f941d15cc4178": {
          "model_module": "@jupyter-widgets/controls",
          "model_name": "HBoxModel",
          "model_module_version": "1.5.0",
          "state": {
            "_dom_classes": [],
            "_model_module": "@jupyter-widgets/controls",
            "_model_module_version": "1.5.0",
            "_model_name": "HBoxModel",
            "_view_count": null,
            "_view_module": "@jupyter-widgets/controls",
            "_view_module_version": "1.5.0",
            "_view_name": "HBoxView",
            "box_style": "",
            "children": [
              "IPY_MODEL_3e6bd7645ed64cc1806df55bf343dbb9",
              "IPY_MODEL_fa83d78c65d540ac867c8822a49f5b42",
              "IPY_MODEL_9e4d98d547ca40b8bdf278f7305cb0d2"
            ],
            "layout": "IPY_MODEL_b344c21dded24939b46f7900e3475acd"
          }
        },
        "3e6bd7645ed64cc1806df55bf343dbb9": {
          "model_module": "@jupyter-widgets/controls",
          "model_name": "HTMLModel",
          "model_module_version": "1.5.0",
          "state": {
            "_dom_classes": [],
            "_model_module": "@jupyter-widgets/controls",
            "_model_module_version": "1.5.0",
            "_model_name": "HTMLModel",
            "_view_count": null,
            "_view_module": "@jupyter-widgets/controls",
            "_view_module_version": "1.5.0",
            "_view_name": "HTMLView",
            "description": "",
            "description_tooltip": null,
            "layout": "IPY_MODEL_d782dfa72e8c4c87a9e59becf60ad05e",
            "placeholder": "​",
            "style": "IPY_MODEL_2f71deee285943e6a4abcab8cc8d8315",
            "value": "tokenizer_config.json: 100%"
          }
        },
        "fa83d78c65d540ac867c8822a49f5b42": {
          "model_module": "@jupyter-widgets/controls",
          "model_name": "FloatProgressModel",
          "model_module_version": "1.5.0",
          "state": {
            "_dom_classes": [],
            "_model_module": "@jupyter-widgets/controls",
            "_model_module_version": "1.5.0",
            "_model_name": "FloatProgressModel",
            "_view_count": null,
            "_view_module": "@jupyter-widgets/controls",
            "_view_module_version": "1.5.0",
            "_view_name": "ProgressView",
            "bar_style": "success",
            "description": "",
            "description_tooltip": null,
            "layout": "IPY_MODEL_26de992e9f0a4bd882bf80fc70b3922c",
            "max": 26,
            "min": 0,
            "orientation": "horizontal",
            "style": "IPY_MODEL_7fabcbb5ca3f4062968605c91bb39c17",
            "value": 26
          }
        },
        "9e4d98d547ca40b8bdf278f7305cb0d2": {
          "model_module": "@jupyter-widgets/controls",
          "model_name": "HTMLModel",
          "model_module_version": "1.5.0",
          "state": {
            "_dom_classes": [],
            "_model_module": "@jupyter-widgets/controls",
            "_model_module_version": "1.5.0",
            "_model_name": "HTMLModel",
            "_view_count": null,
            "_view_module": "@jupyter-widgets/controls",
            "_view_module_version": "1.5.0",
            "_view_name": "HTMLView",
            "description": "",
            "description_tooltip": null,
            "layout": "IPY_MODEL_0a1e4c11f1bf43f7a48afd41fd46d32c",
            "placeholder": "​",
            "style": "IPY_MODEL_d4d002560f384b91907fa6ee79d94a09",
            "value": " 26.0/26.0 [00:00&lt;00:00, 889B/s]"
          }
        },
        "b344c21dded24939b46f7900e3475acd": {
          "model_module": "@jupyter-widgets/base",
          "model_name": "LayoutModel",
          "model_module_version": "1.2.0",
          "state": {
            "_model_module": "@jupyter-widgets/base",
            "_model_module_version": "1.2.0",
            "_model_name": "LayoutModel",
            "_view_count": null,
            "_view_module": "@jupyter-widgets/base",
            "_view_module_version": "1.2.0",
            "_view_name": "LayoutView",
            "align_content": null,
            "align_items": null,
            "align_self": null,
            "border": null,
            "bottom": null,
            "display": null,
            "flex": null,
            "flex_flow": null,
            "grid_area": null,
            "grid_auto_columns": null,
            "grid_auto_flow": null,
            "grid_auto_rows": null,
            "grid_column": null,
            "grid_gap": null,
            "grid_row": null,
            "grid_template_areas": null,
            "grid_template_columns": null,
            "grid_template_rows": null,
            "height": null,
            "justify_content": null,
            "justify_items": null,
            "left": null,
            "margin": null,
            "max_height": null,
            "max_width": null,
            "min_height": null,
            "min_width": null,
            "object_fit": null,
            "object_position": null,
            "order": null,
            "overflow": null,
            "overflow_x": null,
            "overflow_y": null,
            "padding": null,
            "right": null,
            "top": null,
            "visibility": null,
            "width": null
          }
        },
        "d782dfa72e8c4c87a9e59becf60ad05e": {
          "model_module": "@jupyter-widgets/base",
          "model_name": "LayoutModel",
          "model_module_version": "1.2.0",
          "state": {
            "_model_module": "@jupyter-widgets/base",
            "_model_module_version": "1.2.0",
            "_model_name": "LayoutModel",
            "_view_count": null,
            "_view_module": "@jupyter-widgets/base",
            "_view_module_version": "1.2.0",
            "_view_name": "LayoutView",
            "align_content": null,
            "align_items": null,
            "align_self": null,
            "border": null,
            "bottom": null,
            "display": null,
            "flex": null,
            "flex_flow": null,
            "grid_area": null,
            "grid_auto_columns": null,
            "grid_auto_flow": null,
            "grid_auto_rows": null,
            "grid_column": null,
            "grid_gap": null,
            "grid_row": null,
            "grid_template_areas": null,
            "grid_template_columns": null,
            "grid_template_rows": null,
            "height": null,
            "justify_content": null,
            "justify_items": null,
            "left": null,
            "margin": null,
            "max_height": null,
            "max_width": null,
            "min_height": null,
            "min_width": null,
            "object_fit": null,
            "object_position": null,
            "order": null,
            "overflow": null,
            "overflow_x": null,
            "overflow_y": null,
            "padding": null,
            "right": null,
            "top": null,
            "visibility": null,
            "width": null
          }
        },
        "2f71deee285943e6a4abcab8cc8d8315": {
          "model_module": "@jupyter-widgets/controls",
          "model_name": "DescriptionStyleModel",
          "model_module_version": "1.5.0",
          "state": {
            "_model_module": "@jupyter-widgets/controls",
            "_model_module_version": "1.5.0",
            "_model_name": "DescriptionStyleModel",
            "_view_count": null,
            "_view_module": "@jupyter-widgets/base",
            "_view_module_version": "1.2.0",
            "_view_name": "StyleView",
            "description_width": ""
          }
        },
        "26de992e9f0a4bd882bf80fc70b3922c": {
          "model_module": "@jupyter-widgets/base",
          "model_name": "LayoutModel",
          "model_module_version": "1.2.0",
          "state": {
            "_model_module": "@jupyter-widgets/base",
            "_model_module_version": "1.2.0",
            "_model_name": "LayoutModel",
            "_view_count": null,
            "_view_module": "@jupyter-widgets/base",
            "_view_module_version": "1.2.0",
            "_view_name": "LayoutView",
            "align_content": null,
            "align_items": null,
            "align_self": null,
            "border": null,
            "bottom": null,
            "display": null,
            "flex": null,
            "flex_flow": null,
            "grid_area": null,
            "grid_auto_columns": null,
            "grid_auto_flow": null,
            "grid_auto_rows": null,
            "grid_column": null,
            "grid_gap": null,
            "grid_row": null,
            "grid_template_areas": null,
            "grid_template_columns": null,
            "grid_template_rows": null,
            "height": null,
            "justify_content": null,
            "justify_items": null,
            "left": null,
            "margin": null,
            "max_height": null,
            "max_width": null,
            "min_height": null,
            "min_width": null,
            "object_fit": null,
            "object_position": null,
            "order": null,
            "overflow": null,
            "overflow_x": null,
            "overflow_y": null,
            "padding": null,
            "right": null,
            "top": null,
            "visibility": null,
            "width": null
          }
        },
        "7fabcbb5ca3f4062968605c91bb39c17": {
          "model_module": "@jupyter-widgets/controls",
          "model_name": "ProgressStyleModel",
          "model_module_version": "1.5.0",
          "state": {
            "_model_module": "@jupyter-widgets/controls",
            "_model_module_version": "1.5.0",
            "_model_name": "ProgressStyleModel",
            "_view_count": null,
            "_view_module": "@jupyter-widgets/base",
            "_view_module_version": "1.2.0",
            "_view_name": "StyleView",
            "bar_color": null,
            "description_width": ""
          }
        },
        "0a1e4c11f1bf43f7a48afd41fd46d32c": {
          "model_module": "@jupyter-widgets/base",
          "model_name": "LayoutModel",
          "model_module_version": "1.2.0",
          "state": {
            "_model_module": "@jupyter-widgets/base",
            "_model_module_version": "1.2.0",
            "_model_name": "LayoutModel",
            "_view_count": null,
            "_view_module": "@jupyter-widgets/base",
            "_view_module_version": "1.2.0",
            "_view_name": "LayoutView",
            "align_content": null,
            "align_items": null,
            "align_self": null,
            "border": null,
            "bottom": null,
            "display": null,
            "flex": null,
            "flex_flow": null,
            "grid_area": null,
            "grid_auto_columns": null,
            "grid_auto_flow": null,
            "grid_auto_rows": null,
            "grid_column": null,
            "grid_gap": null,
            "grid_row": null,
            "grid_template_areas": null,
            "grid_template_columns": null,
            "grid_template_rows": null,
            "height": null,
            "justify_content": null,
            "justify_items": null,
            "left": null,
            "margin": null,
            "max_height": null,
            "max_width": null,
            "min_height": null,
            "min_width": null,
            "object_fit": null,
            "object_position": null,
            "order": null,
            "overflow": null,
            "overflow_x": null,
            "overflow_y": null,
            "padding": null,
            "right": null,
            "top": null,
            "visibility": null,
            "width": null
          }
        },
        "d4d002560f384b91907fa6ee79d94a09": {
          "model_module": "@jupyter-widgets/controls",
          "model_name": "DescriptionStyleModel",
          "model_module_version": "1.5.0",
          "state": {
            "_model_module": "@jupyter-widgets/controls",
            "_model_module_version": "1.5.0",
            "_model_name": "DescriptionStyleModel",
            "_view_count": null,
            "_view_module": "@jupyter-widgets/base",
            "_view_module_version": "1.2.0",
            "_view_name": "StyleView",
            "description_width": ""
          }
        },
        "a3fda89359144476b7190aa3ac1e0524": {
          "model_module": "@jupyter-widgets/controls",
          "model_name": "HBoxModel",
          "model_module_version": "1.5.0",
          "state": {
            "_dom_classes": [],
            "_model_module": "@jupyter-widgets/controls",
            "_model_module_version": "1.5.0",
            "_model_name": "HBoxModel",
            "_view_count": null,
            "_view_module": "@jupyter-widgets/controls",
            "_view_module_version": "1.5.0",
            "_view_name": "HBoxView",
            "box_style": "",
            "children": [
              "IPY_MODEL_b17161884f1344d18272c54cddbfdcb6",
              "IPY_MODEL_717cffcc191e49fea540c9dc134a1852",
              "IPY_MODEL_3aaeee2fdc0d4d10b47d6c651e462c7d"
            ],
            "layout": "IPY_MODEL_e1974553cd2f4b0a8a09313a5602c30d"
          }
        },
        "b17161884f1344d18272c54cddbfdcb6": {
          "model_module": "@jupyter-widgets/controls",
          "model_name": "HTMLModel",
          "model_module_version": "1.5.0",
          "state": {
            "_dom_classes": [],
            "_model_module": "@jupyter-widgets/controls",
            "_model_module_version": "1.5.0",
            "_model_name": "HTMLModel",
            "_view_count": null,
            "_view_module": "@jupyter-widgets/controls",
            "_view_module_version": "1.5.0",
            "_view_name": "HTMLView",
            "description": "",
            "description_tooltip": null,
            "layout": "IPY_MODEL_03b04394a8b94e33a3282403163991b2",
            "placeholder": "​",
            "style": "IPY_MODEL_62f5039caa084c1f8f349fc74eebf163",
            "value": "vocab.json: 100%"
          }
        },
        "717cffcc191e49fea540c9dc134a1852": {
          "model_module": "@jupyter-widgets/controls",
          "model_name": "FloatProgressModel",
          "model_module_version": "1.5.0",
          "state": {
            "_dom_classes": [],
            "_model_module": "@jupyter-widgets/controls",
            "_model_module_version": "1.5.0",
            "_model_name": "FloatProgressModel",
            "_view_count": null,
            "_view_module": "@jupyter-widgets/controls",
            "_view_module_version": "1.5.0",
            "_view_name": "ProgressView",
            "bar_style": "success",
            "description": "",
            "description_tooltip": null,
            "layout": "IPY_MODEL_0bed317fdf5b4f8fb5142ecb01318662",
            "max": 898822,
            "min": 0,
            "orientation": "horizontal",
            "style": "IPY_MODEL_d060b0bc182c4cbe8137d8f37edb62c4",
            "value": 898822
          }
        },
        "3aaeee2fdc0d4d10b47d6c651e462c7d": {
          "model_module": "@jupyter-widgets/controls",
          "model_name": "HTMLModel",
          "model_module_version": "1.5.0",
          "state": {
            "_dom_classes": [],
            "_model_module": "@jupyter-widgets/controls",
            "_model_module_version": "1.5.0",
            "_model_name": "HTMLModel",
            "_view_count": null,
            "_view_module": "@jupyter-widgets/controls",
            "_view_module_version": "1.5.0",
            "_view_name": "HTMLView",
            "description": "",
            "description_tooltip": null,
            "layout": "IPY_MODEL_84c5d16aeeae4106a44a1ac514e45863",
            "placeholder": "​",
            "style": "IPY_MODEL_a548410af2ae48ca81bfc17b0b813e4c",
            "value": " 899k/899k [00:00&lt;00:00, 1.31MB/s]"
          }
        },
        "e1974553cd2f4b0a8a09313a5602c30d": {
          "model_module": "@jupyter-widgets/base",
          "model_name": "LayoutModel",
          "model_module_version": "1.2.0",
          "state": {
            "_model_module": "@jupyter-widgets/base",
            "_model_module_version": "1.2.0",
            "_model_name": "LayoutModel",
            "_view_count": null,
            "_view_module": "@jupyter-widgets/base",
            "_view_module_version": "1.2.0",
            "_view_name": "LayoutView",
            "align_content": null,
            "align_items": null,
            "align_self": null,
            "border": null,
            "bottom": null,
            "display": null,
            "flex": null,
            "flex_flow": null,
            "grid_area": null,
            "grid_auto_columns": null,
            "grid_auto_flow": null,
            "grid_auto_rows": null,
            "grid_column": null,
            "grid_gap": null,
            "grid_row": null,
            "grid_template_areas": null,
            "grid_template_columns": null,
            "grid_template_rows": null,
            "height": null,
            "justify_content": null,
            "justify_items": null,
            "left": null,
            "margin": null,
            "max_height": null,
            "max_width": null,
            "min_height": null,
            "min_width": null,
            "object_fit": null,
            "object_position": null,
            "order": null,
            "overflow": null,
            "overflow_x": null,
            "overflow_y": null,
            "padding": null,
            "right": null,
            "top": null,
            "visibility": null,
            "width": null
          }
        },
        "03b04394a8b94e33a3282403163991b2": {
          "model_module": "@jupyter-widgets/base",
          "model_name": "LayoutModel",
          "model_module_version": "1.2.0",
          "state": {
            "_model_module": "@jupyter-widgets/base",
            "_model_module_version": "1.2.0",
            "_model_name": "LayoutModel",
            "_view_count": null,
            "_view_module": "@jupyter-widgets/base",
            "_view_module_version": "1.2.0",
            "_view_name": "LayoutView",
            "align_content": null,
            "align_items": null,
            "align_self": null,
            "border": null,
            "bottom": null,
            "display": null,
            "flex": null,
            "flex_flow": null,
            "grid_area": null,
            "grid_auto_columns": null,
            "grid_auto_flow": null,
            "grid_auto_rows": null,
            "grid_column": null,
            "grid_gap": null,
            "grid_row": null,
            "grid_template_areas": null,
            "grid_template_columns": null,
            "grid_template_rows": null,
            "height": null,
            "justify_content": null,
            "justify_items": null,
            "left": null,
            "margin": null,
            "max_height": null,
            "max_width": null,
            "min_height": null,
            "min_width": null,
            "object_fit": null,
            "object_position": null,
            "order": null,
            "overflow": null,
            "overflow_x": null,
            "overflow_y": null,
            "padding": null,
            "right": null,
            "top": null,
            "visibility": null,
            "width": null
          }
        },
        "62f5039caa084c1f8f349fc74eebf163": {
          "model_module": "@jupyter-widgets/controls",
          "model_name": "DescriptionStyleModel",
          "model_module_version": "1.5.0",
          "state": {
            "_model_module": "@jupyter-widgets/controls",
            "_model_module_version": "1.5.0",
            "_model_name": "DescriptionStyleModel",
            "_view_count": null,
            "_view_module": "@jupyter-widgets/base",
            "_view_module_version": "1.2.0",
            "_view_name": "StyleView",
            "description_width": ""
          }
        },
        "0bed317fdf5b4f8fb5142ecb01318662": {
          "model_module": "@jupyter-widgets/base",
          "model_name": "LayoutModel",
          "model_module_version": "1.2.0",
          "state": {
            "_model_module": "@jupyter-widgets/base",
            "_model_module_version": "1.2.0",
            "_model_name": "LayoutModel",
            "_view_count": null,
            "_view_module": "@jupyter-widgets/base",
            "_view_module_version": "1.2.0",
            "_view_name": "LayoutView",
            "align_content": null,
            "align_items": null,
            "align_self": null,
            "border": null,
            "bottom": null,
            "display": null,
            "flex": null,
            "flex_flow": null,
            "grid_area": null,
            "grid_auto_columns": null,
            "grid_auto_flow": null,
            "grid_auto_rows": null,
            "grid_column": null,
            "grid_gap": null,
            "grid_row": null,
            "grid_template_areas": null,
            "grid_template_columns": null,
            "grid_template_rows": null,
            "height": null,
            "justify_content": null,
            "justify_items": null,
            "left": null,
            "margin": null,
            "max_height": null,
            "max_width": null,
            "min_height": null,
            "min_width": null,
            "object_fit": null,
            "object_position": null,
            "order": null,
            "overflow": null,
            "overflow_x": null,
            "overflow_y": null,
            "padding": null,
            "right": null,
            "top": null,
            "visibility": null,
            "width": null
          }
        },
        "d060b0bc182c4cbe8137d8f37edb62c4": {
          "model_module": "@jupyter-widgets/controls",
          "model_name": "ProgressStyleModel",
          "model_module_version": "1.5.0",
          "state": {
            "_model_module": "@jupyter-widgets/controls",
            "_model_module_version": "1.5.0",
            "_model_name": "ProgressStyleModel",
            "_view_count": null,
            "_view_module": "@jupyter-widgets/base",
            "_view_module_version": "1.2.0",
            "_view_name": "StyleView",
            "bar_color": null,
            "description_width": ""
          }
        },
        "84c5d16aeeae4106a44a1ac514e45863": {
          "model_module": "@jupyter-widgets/base",
          "model_name": "LayoutModel",
          "model_module_version": "1.2.0",
          "state": {
            "_model_module": "@jupyter-widgets/base",
            "_model_module_version": "1.2.0",
            "_model_name": "LayoutModel",
            "_view_count": null,
            "_view_module": "@jupyter-widgets/base",
            "_view_module_version": "1.2.0",
            "_view_name": "LayoutView",
            "align_content": null,
            "align_items": null,
            "align_self": null,
            "border": null,
            "bottom": null,
            "display": null,
            "flex": null,
            "flex_flow": null,
            "grid_area": null,
            "grid_auto_columns": null,
            "grid_auto_flow": null,
            "grid_auto_rows": null,
            "grid_column": null,
            "grid_gap": null,
            "grid_row": null,
            "grid_template_areas": null,
            "grid_template_columns": null,
            "grid_template_rows": null,
            "height": null,
            "justify_content": null,
            "justify_items": null,
            "left": null,
            "margin": null,
            "max_height": null,
            "max_width": null,
            "min_height": null,
            "min_width": null,
            "object_fit": null,
            "object_position": null,
            "order": null,
            "overflow": null,
            "overflow_x": null,
            "overflow_y": null,
            "padding": null,
            "right": null,
            "top": null,
            "visibility": null,
            "width": null
          }
        },
        "a548410af2ae48ca81bfc17b0b813e4c": {
          "model_module": "@jupyter-widgets/controls",
          "model_name": "DescriptionStyleModel",
          "model_module_version": "1.5.0",
          "state": {
            "_model_module": "@jupyter-widgets/controls",
            "_model_module_version": "1.5.0",
            "_model_name": "DescriptionStyleModel",
            "_view_count": null,
            "_view_module": "@jupyter-widgets/base",
            "_view_module_version": "1.2.0",
            "_view_name": "StyleView",
            "description_width": ""
          }
        },
        "2e2763e104eb4697814c10932798f531": {
          "model_module": "@jupyter-widgets/controls",
          "model_name": "HBoxModel",
          "model_module_version": "1.5.0",
          "state": {
            "_dom_classes": [],
            "_model_module": "@jupyter-widgets/controls",
            "_model_module_version": "1.5.0",
            "_model_name": "HBoxModel",
            "_view_count": null,
            "_view_module": "@jupyter-widgets/controls",
            "_view_module_version": "1.5.0",
            "_view_name": "HBoxView",
            "box_style": "",
            "children": [
              "IPY_MODEL_5bd58b55cadf42c190c1c0576bd8dfcb",
              "IPY_MODEL_b625e84fa44c43068fe32dfc1d2ce456",
              "IPY_MODEL_66517ea804e5463a85311a01726dcfbd"
            ],
            "layout": "IPY_MODEL_6f50049c5ff241689c9c4f92fbf7ab90"
          }
        },
        "5bd58b55cadf42c190c1c0576bd8dfcb": {
          "model_module": "@jupyter-widgets/controls",
          "model_name": "HTMLModel",
          "model_module_version": "1.5.0",
          "state": {
            "_dom_classes": [],
            "_model_module": "@jupyter-widgets/controls",
            "_model_module_version": "1.5.0",
            "_model_name": "HTMLModel",
            "_view_count": null,
            "_view_module": "@jupyter-widgets/controls",
            "_view_module_version": "1.5.0",
            "_view_name": "HTMLView",
            "description": "",
            "description_tooltip": null,
            "layout": "IPY_MODEL_2cabae90b7be4725ac3f5e91a176030b",
            "placeholder": "​",
            "style": "IPY_MODEL_3ea7757dd7894b03a3cb4611e161d736",
            "value": "merges.txt: 100%"
          }
        },
        "b625e84fa44c43068fe32dfc1d2ce456": {
          "model_module": "@jupyter-widgets/controls",
          "model_name": "FloatProgressModel",
          "model_module_version": "1.5.0",
          "state": {
            "_dom_classes": [],
            "_model_module": "@jupyter-widgets/controls",
            "_model_module_version": "1.5.0",
            "_model_name": "FloatProgressModel",
            "_view_count": null,
            "_view_module": "@jupyter-widgets/controls",
            "_view_module_version": "1.5.0",
            "_view_name": "ProgressView",
            "bar_style": "success",
            "description": "",
            "description_tooltip": null,
            "layout": "IPY_MODEL_8912c6884d194cdaac270d672712940b",
            "max": 456318,
            "min": 0,
            "orientation": "horizontal",
            "style": "IPY_MODEL_424256457c464e81909b8f9b664a32eb",
            "value": 456318
          }
        },
        "66517ea804e5463a85311a01726dcfbd": {
          "model_module": "@jupyter-widgets/controls",
          "model_name": "HTMLModel",
          "model_module_version": "1.5.0",
          "state": {
            "_dom_classes": [],
            "_model_module": "@jupyter-widgets/controls",
            "_model_module_version": "1.5.0",
            "_model_name": "HTMLModel",
            "_view_count": null,
            "_view_module": "@jupyter-widgets/controls",
            "_view_module_version": "1.5.0",
            "_view_name": "HTMLView",
            "description": "",
            "description_tooltip": null,
            "layout": "IPY_MODEL_d25f3fb844724d6cba4b2219ca011a0c",
            "placeholder": "​",
            "style": "IPY_MODEL_6547fe81ca7e47ae8b5aef87a76004ea",
            "value": " 456k/456k [00:00&lt;00:00, 877kB/s]"
          }
        },
        "6f50049c5ff241689c9c4f92fbf7ab90": {
          "model_module": "@jupyter-widgets/base",
          "model_name": "LayoutModel",
          "model_module_version": "1.2.0",
          "state": {
            "_model_module": "@jupyter-widgets/base",
            "_model_module_version": "1.2.0",
            "_model_name": "LayoutModel",
            "_view_count": null,
            "_view_module": "@jupyter-widgets/base",
            "_view_module_version": "1.2.0",
            "_view_name": "LayoutView",
            "align_content": null,
            "align_items": null,
            "align_self": null,
            "border": null,
            "bottom": null,
            "display": null,
            "flex": null,
            "flex_flow": null,
            "grid_area": null,
            "grid_auto_columns": null,
            "grid_auto_flow": null,
            "grid_auto_rows": null,
            "grid_column": null,
            "grid_gap": null,
            "grid_row": null,
            "grid_template_areas": null,
            "grid_template_columns": null,
            "grid_template_rows": null,
            "height": null,
            "justify_content": null,
            "justify_items": null,
            "left": null,
            "margin": null,
            "max_height": null,
            "max_width": null,
            "min_height": null,
            "min_width": null,
            "object_fit": null,
            "object_position": null,
            "order": null,
            "overflow": null,
            "overflow_x": null,
            "overflow_y": null,
            "padding": null,
            "right": null,
            "top": null,
            "visibility": null,
            "width": null
          }
        },
        "2cabae90b7be4725ac3f5e91a176030b": {
          "model_module": "@jupyter-widgets/base",
          "model_name": "LayoutModel",
          "model_module_version": "1.2.0",
          "state": {
            "_model_module": "@jupyter-widgets/base",
            "_model_module_version": "1.2.0",
            "_model_name": "LayoutModel",
            "_view_count": null,
            "_view_module": "@jupyter-widgets/base",
            "_view_module_version": "1.2.0",
            "_view_name": "LayoutView",
            "align_content": null,
            "align_items": null,
            "align_self": null,
            "border": null,
            "bottom": null,
            "display": null,
            "flex": null,
            "flex_flow": null,
            "grid_area": null,
            "grid_auto_columns": null,
            "grid_auto_flow": null,
            "grid_auto_rows": null,
            "grid_column": null,
            "grid_gap": null,
            "grid_row": null,
            "grid_template_areas": null,
            "grid_template_columns": null,
            "grid_template_rows": null,
            "height": null,
            "justify_content": null,
            "justify_items": null,
            "left": null,
            "margin": null,
            "max_height": null,
            "max_width": null,
            "min_height": null,
            "min_width": null,
            "object_fit": null,
            "object_position": null,
            "order": null,
            "overflow": null,
            "overflow_x": null,
            "overflow_y": null,
            "padding": null,
            "right": null,
            "top": null,
            "visibility": null,
            "width": null
          }
        },
        "3ea7757dd7894b03a3cb4611e161d736": {
          "model_module": "@jupyter-widgets/controls",
          "model_name": "DescriptionStyleModel",
          "model_module_version": "1.5.0",
          "state": {
            "_model_module": "@jupyter-widgets/controls",
            "_model_module_version": "1.5.0",
            "_model_name": "DescriptionStyleModel",
            "_view_count": null,
            "_view_module": "@jupyter-widgets/base",
            "_view_module_version": "1.2.0",
            "_view_name": "StyleView",
            "description_width": ""
          }
        },
        "8912c6884d194cdaac270d672712940b": {
          "model_module": "@jupyter-widgets/base",
          "model_name": "LayoutModel",
          "model_module_version": "1.2.0",
          "state": {
            "_model_module": "@jupyter-widgets/base",
            "_model_module_version": "1.2.0",
            "_model_name": "LayoutModel",
            "_view_count": null,
            "_view_module": "@jupyter-widgets/base",
            "_view_module_version": "1.2.0",
            "_view_name": "LayoutView",
            "align_content": null,
            "align_items": null,
            "align_self": null,
            "border": null,
            "bottom": null,
            "display": null,
            "flex": null,
            "flex_flow": null,
            "grid_area": null,
            "grid_auto_columns": null,
            "grid_auto_flow": null,
            "grid_auto_rows": null,
            "grid_column": null,
            "grid_gap": null,
            "grid_row": null,
            "grid_template_areas": null,
            "grid_template_columns": null,
            "grid_template_rows": null,
            "height": null,
            "justify_content": null,
            "justify_items": null,
            "left": null,
            "margin": null,
            "max_height": null,
            "max_width": null,
            "min_height": null,
            "min_width": null,
            "object_fit": null,
            "object_position": null,
            "order": null,
            "overflow": null,
            "overflow_x": null,
            "overflow_y": null,
            "padding": null,
            "right": null,
            "top": null,
            "visibility": null,
            "width": null
          }
        },
        "424256457c464e81909b8f9b664a32eb": {
          "model_module": "@jupyter-widgets/controls",
          "model_name": "ProgressStyleModel",
          "model_module_version": "1.5.0",
          "state": {
            "_model_module": "@jupyter-widgets/controls",
            "_model_module_version": "1.5.0",
            "_model_name": "ProgressStyleModel",
            "_view_count": null,
            "_view_module": "@jupyter-widgets/base",
            "_view_module_version": "1.2.0",
            "_view_name": "StyleView",
            "bar_color": null,
            "description_width": ""
          }
        },
        "d25f3fb844724d6cba4b2219ca011a0c": {
          "model_module": "@jupyter-widgets/base",
          "model_name": "LayoutModel",
          "model_module_version": "1.2.0",
          "state": {
            "_model_module": "@jupyter-widgets/base",
            "_model_module_version": "1.2.0",
            "_model_name": "LayoutModel",
            "_view_count": null,
            "_view_module": "@jupyter-widgets/base",
            "_view_module_version": "1.2.0",
            "_view_name": "LayoutView",
            "align_content": null,
            "align_items": null,
            "align_self": null,
            "border": null,
            "bottom": null,
            "display": null,
            "flex": null,
            "flex_flow": null,
            "grid_area": null,
            "grid_auto_columns": null,
            "grid_auto_flow": null,
            "grid_auto_rows": null,
            "grid_column": null,
            "grid_gap": null,
            "grid_row": null,
            "grid_template_areas": null,
            "grid_template_columns": null,
            "grid_template_rows": null,
            "height": null,
            "justify_content": null,
            "justify_items": null,
            "left": null,
            "margin": null,
            "max_height": null,
            "max_width": null,
            "min_height": null,
            "min_width": null,
            "object_fit": null,
            "object_position": null,
            "order": null,
            "overflow": null,
            "overflow_x": null,
            "overflow_y": null,
            "padding": null,
            "right": null,
            "top": null,
            "visibility": null,
            "width": null
          }
        },
        "6547fe81ca7e47ae8b5aef87a76004ea": {
          "model_module": "@jupyter-widgets/controls",
          "model_name": "DescriptionStyleModel",
          "model_module_version": "1.5.0",
          "state": {
            "_model_module": "@jupyter-widgets/controls",
            "_model_module_version": "1.5.0",
            "_model_name": "DescriptionStyleModel",
            "_view_count": null,
            "_view_module": "@jupyter-widgets/base",
            "_view_module_version": "1.2.0",
            "_view_name": "StyleView",
            "description_width": ""
          }
        }
      }
    }
  },
  "cells": [
    {
      "cell_type": "markdown",
      "metadata": {
        "id": "view-in-github",
        "colab_type": "text"
      },
      "source": [
        "<a href=\"https://colab.research.google.com/github/fedy-culer/AI-Blog-Post-Summarization-Project/blob/main/AI_Blog_Post_Summarization.ipynb\" target=\"_parent\"><img src=\"https://colab.research.google.com/assets/colab-badge.svg\" alt=\"Open In Colab\"/></a>"
      ]
    },
    {
      "cell_type": "markdown",
      "source": [
        "# AI Blog Post Summarization with Hugging Face Transformers & Beautiful Soup Web Scraping"
      ],
      "metadata": {
        "id": "fezFrQrkWxvQ"
      }
    },
    {
      "cell_type": "markdown",
      "source": [
        "**By Fedy Ben Hassouna**"
      ],
      "metadata": {
        "id": "4D4QwHQkWuz3"
      }
    },
    {
      "cell_type": "markdown",
      "source": [
        "## 1- Instal HuggingFace Transformers and Install Dependencies"
      ],
      "metadata": {
        "id": "vN1h3GruXJ2F"
      }
    },
    {
      "cell_type": "code",
      "source": [
        "from transformers import pipeline\n",
        "from bs4 import BeautifulSoup\n",
        "import requests"
      ],
      "metadata": {
        "id": "J10QLaWOXYHR"
      },
      "execution_count": 2,
      "outputs": []
    },
    {
      "cell_type": "markdown",
      "source": [
        "## 2- Load Summarization Pipeline\n"
      ],
      "metadata": {
        "id": "dkAIjX3PaFct"
      }
    },
    {
      "cell_type": "code",
      "source": [
        "model = \"sshleifer/distilbart-cnn-12-6\"\n",
        "Summarizer=pipeline(task=\"summarization\", model=model)"
      ],
      "metadata": {
        "colab": {
          "base_uri": "https://localhost:8080/",
          "height": 306,
          "referenced_widgets": [
            "77290a40f3d34abd8ed09482d54da8d8",
            "d130c10af1b24d7f97c14bd0c5451551",
            "a9a305b67a2344348b8898864387531e",
            "72f8972961b8426bbef6372daa5348cc",
            "fc3f046b591248cd84ff5fa1dc4e81d7",
            "42d26ce0499a4995b8b11c9f5fe7de69",
            "99f84fef2c6c4902b0727b0f25f04f07",
            "5a68a7adece6427e8cc3aa12b83dc76b",
            "726d5b722886444c92e0369edc0208ed",
            "5792f214a61f44dea47edfcce80b64a6",
            "462ed512ec67467fb4fad7eec9d69dca",
            "1aeaf1b647e140859b5c2e42e8b1a6b7",
            "57fc41079c5d4dfca7bf1ab816defaee",
            "f986b7f2925343879d4c8176c7f3acb7",
            "33654c967e1a4f20bc370830f9c41ff3",
            "fb9b0b84bcf04d5893cbd400b64ed20a",
            "2f106b557fb0445292f04204f8a2b46a",
            "ff76e7a28ff14e208396bdcf039f1135",
            "a76a8059af3e4dabafd0b22804e04a5e",
            "d4a0cb8569624e41af0c9a0d039cf2b6",
            "30d7c5b5bf834d9081903325bb56ee81",
            "5f2ab233cdcf40e3b91d5cc993acb3ac",
            "e18406d0527d4da28f6f941d15cc4178",
            "3e6bd7645ed64cc1806df55bf343dbb9",
            "fa83d78c65d540ac867c8822a49f5b42",
            "9e4d98d547ca40b8bdf278f7305cb0d2",
            "b344c21dded24939b46f7900e3475acd",
            "d782dfa72e8c4c87a9e59becf60ad05e",
            "2f71deee285943e6a4abcab8cc8d8315",
            "26de992e9f0a4bd882bf80fc70b3922c",
            "7fabcbb5ca3f4062968605c91bb39c17",
            "0a1e4c11f1bf43f7a48afd41fd46d32c",
            "d4d002560f384b91907fa6ee79d94a09",
            "a3fda89359144476b7190aa3ac1e0524",
            "b17161884f1344d18272c54cddbfdcb6",
            "717cffcc191e49fea540c9dc134a1852",
            "3aaeee2fdc0d4d10b47d6c651e462c7d",
            "e1974553cd2f4b0a8a09313a5602c30d",
            "03b04394a8b94e33a3282403163991b2",
            "62f5039caa084c1f8f349fc74eebf163",
            "0bed317fdf5b4f8fb5142ecb01318662",
            "d060b0bc182c4cbe8137d8f37edb62c4",
            "84c5d16aeeae4106a44a1ac514e45863",
            "a548410af2ae48ca81bfc17b0b813e4c",
            "2e2763e104eb4697814c10932798f531",
            "5bd58b55cadf42c190c1c0576bd8dfcb",
            "b625e84fa44c43068fe32dfc1d2ce456",
            "66517ea804e5463a85311a01726dcfbd",
            "6f50049c5ff241689c9c4f92fbf7ab90",
            "2cabae90b7be4725ac3f5e91a176030b",
            "3ea7757dd7894b03a3cb4611e161d736",
            "8912c6884d194cdaac270d672712940b",
            "424256457c464e81909b8f9b664a32eb",
            "d25f3fb844724d6cba4b2219ca011a0c",
            "6547fe81ca7e47ae8b5aef87a76004ea"
          ]
        },
        "id": "Hhh7fEybXCMl",
        "outputId": "e9a8db80-aa77-416a-d8a8-39431133a045"
      },
      "execution_count": 3,
      "outputs": [
        {
          "output_type": "stream",
          "name": "stderr",
          "text": [
            "/usr/local/lib/python3.10/dist-packages/huggingface_hub/utils/_token.py:89: UserWarning: \n",
            "The secret `HF_TOKEN` does not exist in your Colab secrets.\n",
            "To authenticate with the Hugging Face Hub, create a token in your settings tab (https://huggingface.co/settings/tokens), set it as secret in your Google Colab and restart your session.\n",
            "You will be able to reuse this secret in all of your notebooks.\n",
            "Please note that authentication is recommended but still optional to access public models or datasets.\n",
            "  warnings.warn(\n"
          ]
        },
        {
          "output_type": "display_data",
          "data": {
            "text/plain": [
              "config.json:   0%|          | 0.00/1.80k [00:00<?, ?B/s]"
            ],
            "application/vnd.jupyter.widget-view+json": {
              "version_major": 2,
              "version_minor": 0,
              "model_id": "77290a40f3d34abd8ed09482d54da8d8"
            }
          },
          "metadata": {}
        },
        {
          "output_type": "display_data",
          "data": {
            "text/plain": [
              "pytorch_model.bin:   0%|          | 0.00/1.22G [00:00<?, ?B/s]"
            ],
            "application/vnd.jupyter.widget-view+json": {
              "version_major": 2,
              "version_minor": 0,
              "model_id": "1aeaf1b647e140859b5c2e42e8b1a6b7"
            }
          },
          "metadata": {}
        },
        {
          "output_type": "display_data",
          "data": {
            "text/plain": [
              "tokenizer_config.json:   0%|          | 0.00/26.0 [00:00<?, ?B/s]"
            ],
            "application/vnd.jupyter.widget-view+json": {
              "version_major": 2,
              "version_minor": 0,
              "model_id": "e18406d0527d4da28f6f941d15cc4178"
            }
          },
          "metadata": {}
        },
        {
          "output_type": "display_data",
          "data": {
            "text/plain": [
              "vocab.json:   0%|          | 0.00/899k [00:00<?, ?B/s]"
            ],
            "application/vnd.jupyter.widget-view+json": {
              "version_major": 2,
              "version_minor": 0,
              "model_id": "a3fda89359144476b7190aa3ac1e0524"
            }
          },
          "metadata": {}
        },
        {
          "output_type": "display_data",
          "data": {
            "text/plain": [
              "merges.txt:   0%|          | 0.00/456k [00:00<?, ?B/s]"
            ],
            "application/vnd.jupyter.widget-view+json": {
              "version_major": 2,
              "version_minor": 0,
              "model_id": "2e2763e104eb4697814c10932798f531"
            }
          },
          "metadata": {}
        }
      ]
    },
    {
      "cell_type": "markdown",
      "source": [
        "## 3- Get Blog Post from A Website : \" HackerNoon \""
      ],
      "metadata": {
        "id": "iyPiL051bP7D"
      }
    },
    {
      "cell_type": "code",
      "source": [
        "URL =\"https://hackernoon.com/school-is-dead-embrace-modern-education-instead\""
      ],
      "metadata": {
        "id": "XVT_0o8fbWmc"
      },
      "execution_count": 4,
      "outputs": []
    },
    {
      "cell_type": "code",
      "source": [
        "r = requests.get(URL)\n"
      ],
      "metadata": {
        "id": "WosaH1sTc1iG"
      },
      "execution_count": 5,
      "outputs": []
    },
    {
      "cell_type": "code",
      "source": [
        "r"
      ],
      "metadata": {
        "colab": {
          "base_uri": "https://localhost:8080/"
        },
        "id": "8NQfGO67eF8a",
        "outputId": "8db20b54-346d-4729-c300-3f56f7fc9773"
      },
      "execution_count": 6,
      "outputs": [
        {
          "output_type": "execute_result",
          "data": {
            "text/plain": [
              "<Response [200]>"
            ]
          },
          "metadata": {},
          "execution_count": 6
        }
      ]
    },
    {
      "cell_type": "code",
      "source": [
        "soup = BeautifulSoup(r.text, 'html.parser')\n",
        "results = soup.find_all(['h1', 'p'])"
      ],
      "metadata": {
        "id": "y5DcyO2fd1jk"
      },
      "execution_count": 7,
      "outputs": []
    },
    {
      "cell_type": "code",
      "source": [
        "results"
      ],
      "metadata": {
        "colab": {
          "base_uri": "https://localhost:8080/"
        },
        "collapsed": true,
        "id": "bZrtSQied4hH",
        "outputId": "4b2128ef-75dc-4e46-8f97-12f10440e10c"
      },
      "execution_count": 8,
      "outputs": [
        {
          "output_type": "execute_result",
          "data": {
            "text/plain": [
              "[<h1 class=\"story-title\" style=\"text-align:left\">School is Dead. Embrace Modern Education Instead.</h1>,\n",
              " <p class=\"line-space\"> <br/> </p>,\n",
              " <p>N.B. <em>In my previous letter,</em> <em><a href=\"https://hackernoon.com/how-to-learn-anything-fast?ref=hackernoon.com\" rel=\"noopener noreferrer ugc\" target=\"_blank\">Learn Anything Fast</a>, I shared insights on how to quickly acquire new skills and knowledge.</em></p>,\n",
              " <p class=\"line-space\"> <br/> </p>,\n",
              " <p><em>Today, I want to take that a step further by introducing the concept of the \"New School\" and providing a practical framework to help you put these ideas into action.</em></p>,\n",
              " <p class=\"line-space\"> <br/> </p>,\n",
              " <p><em>If you haven’t read the previous letter, I’d suggest you</em> <em><a href=\"https://hackernoon.com/how-to-learn-anything-fast?ref=hackernoon.com\" rel=\"noopener noreferrer ugc\" target=\"_blank\">do that first</a>.</em></p>,\n",
              " <p class=\"line-space\"> <br/> </p>,\n",
              " <p>Let’s get into it.</p>,\n",
              " <p class=\"line-space\"> <br/> </p>,\n",
              " <p>I always had a dislike for school—And school seemed to have a dislike for me.</p>,\n",
              " <p class=\"line-space\"> <br/> </p>,\n",
              " <p>As a matter of fact, I had to start over a class year not once, but twice. I often got into trouble. My parents were frequently called in to discuss my lack of interest, poor grades, and disturbances.</p>,\n",
              " <p class=\"line-space\"> <br/> </p>,\n",
              " <p>Was it because I had below-average intelligence?</p>,\n",
              " <p class=\"line-space\"> <br/> </p>,\n",
              " <p>I hope not.</p>,\n",
              " <p class=\"line-space\"> <br/> </p>,\n",
              " <p>It was because I lacked trust in the education system and because I was bored.</p>,\n",
              " <p class=\"line-space\"> <br/> </p>,\n",
              " <p>Philosophy was my favorite class until someone ruined it for me. We were supposed to recite philosophers’ thoughts verbatim. I thought we were there to learn how to think, so I did—and got punished for it.</p>,\n",
              " <p class=\"line-space\"> <br/> </p>,\n",
              " <p>New ideas, expansion— they were not welcomed. The teacher argued that I was supposed to remember and recite the thoughts we learned.</p>,\n",
              " <p class=\"line-space\"> <br/> </p>,\n",
              " <p>Nothing more, nothing less.</p>,\n",
              " <p class=\"line-space\"> <br/> </p>,\n",
              " <p>Maybe I just had a lousy teacher. But my dislike for the whole school system was deep-rooted.</p>,\n",
              " <p class=\"line-space\"> <br/> </p>,\n",
              " <p>I didn’t get the rigid rules. No room for self-exploration, sharing ideas, or collaboration.</p>,\n",
              " <p class=\"line-space\"> <br/> </p>,\n",
              " <p>I also did not understand the skills that they were trying to teach us. It was like they were just preparing us to obey, follow directions, learn and recite.</p>,\n",
              " <p class=\"line-space\"> <br/> </p>,\n",
              " <p>Were they preparing us to be employees and not think for ourselves?</p>,\n",
              " <p><span><span style=\"box-sizing:border-box;display:inline-block;overflow:hidden;width:initial;height:initial;background:none;opacity:1;border:0;margin:0;padding:0;position:relative;max-width:100%\"><span style=\"box-sizing:border-box;display:block;width:initial;height:initial;background:none;opacity:1;border:0;margin:0;padding:0;max-width:100%\"><img alt=\"\" aria-hidden=\"true\" src=\"data:image/svg+xml,%3csvg%20xmlns=%27http://www.w3.org/2000/svg%27%20version=%271.1%27%20width=%271292%27%20height=%27727%27/%3e\" style=\"display:block;max-width:100%;width:initial;height:initial;background:none;opacity:1;border:0;margin:0;padding:0\"/></span><img alt=\"\" class=\"image-container undefined\" data-nimg=\"intrinsic\" decoding=\"async\" src=\"data:image/gif;base64,R0lGODlhAQABAIAAAAAAAP///yH5BAEAAAAALAAAAAABAAEAAAIBRAA7\" style=\"position:absolute;top:0;left:0;bottom:0;right:0;box-sizing:border-box;padding:0;border:none;margin:auto;display:block;width:0;height:0;min-width:100%;max-width:100%;min-height:100%;max-height:100%\"/><noscript><img alt=\"\" class=\"image-container undefined\" data-nimg=\"intrinsic\" decoding=\"async\" loading=\"lazy\" src=\"https://hackernoon.imgix.net/images/qkXA8MX2eJScMSRNgGr3WBlDxfN2-2024-07-31T13:00:21.253Z-jhgcaichdtv7ai12z7hzys6t?auto=format&amp;fit=max&amp;w=3840\" srcset=\"https://hackernoon.imgix.net/images/qkXA8MX2eJScMSRNgGr3WBlDxfN2-2024-07-31T13:00:21.253Z-jhgcaichdtv7ai12z7hzys6t?auto=format&amp;fit=max&amp;w=1920 1x, https://hackernoon.imgix.net/images/qkXA8MX2eJScMSRNgGr3WBlDxfN2-2024-07-31T13:00:21.253Z-jhgcaichdtv7ai12z7hzys6t?auto=format&amp;fit=max&amp;w=3840 2x\" style=\"position:absolute;top:0;left:0;bottom:0;right:0;box-sizing:border-box;padding:0;border:none;margin:auto;display:block;width:0;height:0;min-width:100%;max-width:100%;min-height:100%;max-height:100%\"/></noscript></span></span></p>,\n",
              " <p>As I grew older, I discovered that I wasn't alone.</p>,\n",
              " <p class=\"line-space\"> <br/> </p>,\n",
              " <p>People are losing trust in the education system. I would argue they never truly had trust in it; it was just the only option they knew/was available.</p>,\n",
              " <p class=\"line-space\"> <br/> </p>,\n",
              " <p>I learned most of the information I actually use and profit from online, not from school.</p>,\n",
              " <p class=\"line-space\"> <br/> </p>,\n",
              " <p><strong>If you want a limited income, stick to the conventional route. But if you want an unlimited income, embrace the digital route and self education.</strong></p>,\n",
              " <p>Everything you need is available online. Most of it is free.</p>,\n",
              " <p class=\"line-space\"> <br/> </p>,\n",
              " <p>I built my real estate investment firm from various websites, blog posts, a couple of masterminds, and paid courses.</p>,\n",
              " <p class=\"line-space\"> <br/> </p>,\n",
              " <p><strong>YouTube:</strong> I learned to build a custom CRM system from scratch, using detailed tutorials available for free. What was available did not fit my very specific business model, so I went and created my own.</p>,\n",
              " <p class=\"line-space\"> <br/> </p>,\n",
              " <p><strong>Paid and Free Courses:</strong> I invested in courses that taught me SEO, digital marketing strategies, and advanced real estate tactics.</p>,\n",
              " <p class=\"line-space\"> <br/> </p>,\n",
              " <p><strong>Articles and Blogs:</strong> Countless articles newsletters and social media platforms have provided me with the latest industry trends, helping my company stay ahead of the curve.</p>,\n",
              " <p class=\"line-space\"> <br/> </p>,\n",
              " <p><strong>Masterminds</strong>: I joined 4 masterminds, which allowed me to meet my initial partners and acquire my first apartment building, learn how to hire and fire effectively, and scale to 7 figures in under 30 months.</p>,\n",
              " <p class=\"line-space\"> <br/> </p>,\n",
              " <p>These resources have been invaluable, providing practical, up-to-date information that I could immediately apply to my business.</p>,\n",
              " <p>Traditional education dumps a lot of theory on us with little practical use. It’s one-size-fits-all and doesn’t adapt to individual needs or changing industries.</p>,\n",
              " <p class=\"line-space\"> <br/> </p>,\n",
              " <p>This rigidity means that many people leave school feeling unprepared for the real world, armed with outdated knowledge and skills.</p>,\n",
              " <p class=\"line-space\"> <br/> </p>,\n",
              " <p>School doesn’t teach you how to make or manage money.</p>,\n",
              " <p class=\"line-space\"> <br/> </p>,\n",
              " <p>School doesn’t teach you how to find your zone of genius, or how to find your life’s work.</p>,\n",
              " <p class=\"line-space\"> <br/> </p>,\n",
              " <p>Most classes are taught by teachers who’ve never done what they’re teaching. None of my business teachers ever founded a successful company.</p>,\n",
              " <p class=\"line-space\"> <br/> </p>,\n",
              " <p>Why would you want to learn how to build a business from someone who never built a business?</p>,\n",
              " <p>Online platforms have tons of courses and materials.</p>,\n",
              " <p class=\"line-space\"> <br/> </p>,\n",
              " <p>You can tailor your learning to fit your needs.</p>,\n",
              " <p class=\"line-space\"> <br/> </p>,\n",
              " <p>Learn at your own pace</p>,\n",
              " <p class=\"line-space\"> <br/> </p>,\n",
              " <p>Tackle tough topics again</p>,\n",
              " <p class=\"line-space\"> <br/> </p>,\n",
              " <p>Use what you learn right away.</p>,\n",
              " <p class=\"line-space\"> <br/> </p>,\n",
              " <p>Learn <em>what</em> you need, <em>when</em> you need it.</p>,\n",
              " <p class=\"line-space\"> <br/> </p>,\n",
              " <p>Skip the stuff you don’t.</p>,\n",
              " <p class=\"line-space\"> <br/> </p>,\n",
              " <p>The best part is, you can learn from someone just a couple of steps ahead of you, <strong>someone who’s just solved the problem you’re facing</strong>.</p>,\n",
              " <p class=\"line-space\"> <br/> </p>,\n",
              " <p>It’s all about getting those specific, actionable solutions that keep you moving forward quickly.</p>,\n",
              " <p class=\"line-space\"> <br/> </p>,\n",
              " <p>Be the boss of your own education.</p>,\n",
              " <p class=\"line-space\"> <br/> </p>,\n",
              " <p>Now, I can already hear you say that online learning isn’t as credible as traditional degrees or that it takes a lot of self-discipline.</p>,\n",
              " <p class=\"line-space\"> <br/> </p>,\n",
              " <p>Finding good content can be a pain. But if you know how to sort through the crap, it’s actually pretty simple.</p>,\n",
              " <p class=\"line-space\"> <br/> </p>,\n",
              " <p>You need to:</p>,\n",
              " <p class=\"line-space\"> <br/> </p>,\n",
              " <p><strong>Identify Your Goals:</strong> Define what you want to achieve and set clear learning objectives.</p>,\n",
              " <p class=\"line-space\"> <br/> </p>,\n",
              " <p><strong>Curate Resources:</strong> Pin Point reputable sources like YouTube channels, paid courses, and informative articles.</p>,\n",
              " <p class=\"line-space\"> <br/> </p>,\n",
              " <p><strong>Use AI</strong>: to help you speed up the process of gathering and sorting through large amounts of data.</p>,\n",
              " <p class=\"line-space\"> <br/> </p>,\n",
              " <p><strong>Schedule Learning Time:</strong> Dedicate specific times for learning to build a consistent routine.</p>,\n",
              " <p class=\"line-space\"> <br/> </p>,\n",
              " <p><strong>Engage with the Community:</strong> Join forums, groups, and networks related to your field of interest to share insights and gain support.</p>,\n",
              " <p class=\"line-space\"> <br/> </p>,\n",
              " <p><strong>Apply Knowledge:</strong> Implement what you learn through real-life projects and practical applications.</p>,\n",
              " <p class=\"line-space\"> <br/> </p>,\n",
              " <p>Now that you have an understanding of the approach, let me show you my exact process of learning.</p>,\n",
              " <p class=\"line-space\"> <br/> </p>,\n",
              " <p class=\"line-space\"> <br/> </p>,\n",
              " <p>Here’s a step-by-step guide, going beyond the basics to give you a comprehensive framework.</p>,\n",
              " <p class=\"line-space\"> <br/> </p>,\n",
              " <p><span><span style=\"box-sizing:border-box;display:inline-block;overflow:hidden;width:initial;height:initial;background:none;opacity:1;border:0;margin:0;padding:0;position:relative;max-width:100%\"><span style=\"box-sizing:border-box;display:block;width:initial;height:initial;background:none;opacity:1;border:0;margin:0;padding:0;max-width:100%\"><img alt=\"\" aria-hidden=\"true\" src=\"data:image/svg+xml,%3csvg%20xmlns=%27http://www.w3.org/2000/svg%27%20version=%271.1%27%20width=%271210%27%20height=%27738%27/%3e\" style=\"display:block;max-width:100%;width:initial;height:initial;background:none;opacity:1;border:0;margin:0;padding:0\"/></span><img alt=\"\" class=\"image-container undefined\" data-nimg=\"intrinsic\" decoding=\"async\" src=\"data:image/gif;base64,R0lGODlhAQABAIAAAAAAAP///yH5BAEAAAAALAAAAAABAAEAAAIBRAA7\" style=\"position:absolute;top:0;left:0;bottom:0;right:0;box-sizing:border-box;padding:0;border:none;margin:auto;display:block;width:0;height:0;min-width:100%;max-width:100%;min-height:100%;max-height:100%\"/><noscript><img alt=\"\" class=\"image-container undefined\" data-nimg=\"intrinsic\" decoding=\"async\" loading=\"lazy\" src=\"https://hackernoon.imgix.net/images/qkXA8MX2eJScMSRNgGr3WBlDxfN2-2024-07-31T13:00:21.364Z-ymbmy1k0zv11365uxbx1obru?auto=format&amp;fit=max&amp;w=3840\" srcset=\"https://hackernoon.imgix.net/images/qkXA8MX2eJScMSRNgGr3WBlDxfN2-2024-07-31T13:00:21.364Z-ymbmy1k0zv11365uxbx1obru?auto=format&amp;fit=max&amp;w=1920 1x, https://hackernoon.imgix.net/images/qkXA8MX2eJScMSRNgGr3WBlDxfN2-2024-07-31T13:00:21.364Z-ymbmy1k0zv11365uxbx1obru?auto=format&amp;fit=max&amp;w=3840 2x\" style=\"position:absolute;top:0;left:0;bottom:0;right:0;box-sizing:border-box;padding:0;border:none;margin:auto;display:block;width:0;height:0;min-width:100%;max-width:100%;min-height:100%;max-height:100%\"/></noscript></span></span></p>,\n",
              " <p>I’ll walk you through each step, and a timeline to keep it all under <em>(an average of*</em>) 20 hours—not including the mandatory 24 hour break.</p>,\n",
              " <p class=\"line-space\"> <br/> </p>,\n",
              " <p class=\"line-space\"> <br/> </p>,\n",
              " <p><strong>Start with a broad search to gather initial information and understand the basics.</strong></p>,\n",
              " <p class=\"line-space\"> <br/> </p>,\n",
              " <p>When I dive into a new topic, I start with a Google search. I type in main keywords and skim the first few articles for a general idea. This isn’t about going deep yet; it’s about getting a lay of the land.</p>,\n",
              " <p class=\"line-space\"> <br/> </p>,\n",
              " <p><strong>Why:</strong> Understand the scope, common terms, and key concepts. Map out the territory without gathering all details.</p>,\n",
              " <p class=\"line-space\"> <br/> </p>,\n",
              " <p><strong>Timeline:</strong> 1 hour. Set a timer and avoid going deep into any single source. Aim for breadth, not depth.</p>,\n",
              " <p class=\"line-space\"> <br/> </p>,\n",
              " <p><span class=\"highlight\">I might have to revisit this list shortly because ChatGPT is releasing SearchGPT, which might reorder this considerably. I am currently on the waitlist, so stay tuned for that.</span></p>,\n",
              " <p class=\"line-space\"> <br/> </p>,\n",
              " <p><span><span style=\"box-sizing:border-box;display:inline-block;overflow:hidden;width:initial;height:initial;background:none;opacity:1;border:0;margin:0;padding:0;position:relative;max-width:100%\"><span style=\"box-sizing:border-box;display:block;width:initial;height:initial;background:none;opacity:1;border:0;margin:0;padding:0;max-width:100%\"><img alt=\"\" aria-hidden=\"true\" src=\"data:image/svg+xml,%3csvg%20xmlns=%27http://www.w3.org/2000/svg%27%20version=%271.1%27%20width=%271143%27%20height=%27459%27/%3e\" style=\"display:block;max-width:100%;width:initial;height:initial;background:none;opacity:1;border:0;margin:0;padding:0\"/></span><img alt=\"\" class=\"image-container undefined\" data-nimg=\"intrinsic\" decoding=\"async\" src=\"data:image/gif;base64,R0lGODlhAQABAIAAAAAAAP///yH5BAEAAAAALAAAAAABAAEAAAIBRAA7\" style=\"position:absolute;top:0;left:0;bottom:0;right:0;box-sizing:border-box;padding:0;border:none;margin:auto;display:block;width:0;height:0;min-width:100%;max-width:100%;min-height:100%;max-height:100%\"/><noscript><img alt=\"\" class=\"image-container undefined\" data-nimg=\"intrinsic\" decoding=\"async\" loading=\"lazy\" src=\"https://hackernoon.imgix.net/images/qkXA8MX2eJScMSRNgGr3WBlDxfN2-2024-07-31T13:00:21.366Z-j7dr57xw9k7yv27ppttnojw5?auto=format&amp;fit=max&amp;w=3840\" srcset=\"https://hackernoon.imgix.net/images/qkXA8MX2eJScMSRNgGr3WBlDxfN2-2024-07-31T13:00:21.366Z-j7dr57xw9k7yv27ppttnojw5?auto=format&amp;fit=max&amp;w=1200 1x, https://hackernoon.imgix.net/images/qkXA8MX2eJScMSRNgGr3WBlDxfN2-2024-07-31T13:00:21.366Z-j7dr57xw9k7yv27ppttnojw5?auto=format&amp;fit=max&amp;w=3840 2x\" style=\"position:absolute;top:0;left:0;bottom:0;right:0;box-sizing:border-box;padding:0;border:none;margin:auto;display:block;width:0;height:0;min-width:100%;max-width:100%;min-height:100%;max-height:100%\"/></noscript></span></span></p>,\n",
              " <p class=\"line-space\"> <br/> </p>,\n",
              " <p class=\"line-space\"> <br/> </p>,\n",
              " <p><strong>Input articles into ChatGPT to get a Minimum Viable Understanding (MVU), focusing on common vocabulary and concepts.</strong></p>,\n",
              " <p class=\"line-space\"> <br/> </p>,\n",
              " <p>I take promising articles from my Google search and feed them into ChatGPT. I ask it to summarize key points and explain jargon.</p>,\n",
              " <p class=\"line-space\"> <br/> </p>,\n",
              " <p><strong>Why:</strong> Speed up comprehension, breaking down complex info into digestible chunks.</p>,\n",
              " <p class=\"line-space\"> <br/> </p>,\n",
              " <p><strong>Timeline:</strong> 30 minutes to 1 hour.</p>,\n",
              " <p class=\"line-space\"> <br/> </p>,\n",
              " <p class=\"line-space\"> <br/> </p>,\n",
              " <p>This is where it gets interesting..</p>,\n",
              " <p class=\"line-space\"> <br/> </p>,\n",
              " <p><strong>Use</strong> <strong><a href=\"https://perplexity.ai/?utm_source=www.engineeryourexistence.com&amp;utm_medium=referral&amp;utm_campaign=school-is-dead-embrace-modern-education-instead&amp;ref=hackernoon.com\" rel=\"noopener noreferrer ugc\" target=\"_blank\">Perplexity.AI</a></strong> <strong>for cited research and additional depth, ensuring credible and well-rounded information.</strong></p>,\n",
              " <p class=\"line-space\"> <br/> </p>,\n",
              " <p>With a basic understanding in place, I use Perplexity.AI to provide cited sources and detailed explanations.</p>,\n",
              " <p class=\"line-space\"> <br/> </p>,\n",
              " <p><strong>Why:</strong> Depth of knowledge is crucial for mastering a topic. This step broadens understanding and highlights connections.</p>,\n",
              " <p class=\"line-space\"> <br/> </p>,\n",
              " <p><strong>Timeline:</strong> 4 hours. Explore different sources, take notes, and verify information.</p>,\n",
              " <p class=\"line-space\"> <br/> </p>,\n",
              " <p>This step is longer because the tool suggests additional questions that you may not have thought of, increasing your chances of going down a rabbit hole—which is good. Example:</p>,\n",
              " <p><span><span style=\"box-sizing:border-box;display:inline-block;overflow:hidden;width:initial;height:initial;background:none;opacity:1;border:0;margin:0;padding:0;position:relative;max-width:100%\"><span style=\"box-sizing:border-box;display:block;width:initial;height:initial;background:none;opacity:1;border:0;margin:0;padding:0;max-width:100%\"><img alt=\"\" aria-hidden=\"true\" src=\"data:image/svg+xml,%3csvg%20xmlns=%27http://www.w3.org/2000/svg%27%20version=%271.1%27%20width=%271280%27%20height=%27720%27/%3e\" style=\"display:block;max-width:100%;width:initial;height:initial;background:none;opacity:1;border:0;margin:0;padding:0\"/></span><img alt=\"\" class=\"image-container undefined\" data-nimg=\"intrinsic\" decoding=\"async\" src=\"data:image/gif;base64,R0lGODlhAQABAIAAAAAAAP///yH5BAEAAAAALAAAAAABAAEAAAIBRAA7\" style=\"position:absolute;top:0;left:0;bottom:0;right:0;box-sizing:border-box;padding:0;border:none;margin:auto;display:block;width:0;height:0;min-width:100%;max-width:100%;min-height:100%;max-height:100%\"/><noscript><img alt=\"\" class=\"image-container undefined\" data-nimg=\"intrinsic\" decoding=\"async\" loading=\"lazy\" src=\"https://hackernoon.imgix.net/images/qkXA8MX2eJScMSRNgGr3WBlDxfN2-2024-07-31T13:00:21.367Z-meg6ond6fydos6za23x5dibj?auto=format&amp;fit=max&amp;w=3840\" srcset=\"https://hackernoon.imgix.net/images/qkXA8MX2eJScMSRNgGr3WBlDxfN2-2024-07-31T13:00:21.367Z-meg6ond6fydos6za23x5dibj?auto=format&amp;fit=max&amp;w=1920 1x, https://hackernoon.imgix.net/images/qkXA8MX2eJScMSRNgGr3WBlDxfN2-2024-07-31T13:00:21.367Z-meg6ond6fydos6za23x5dibj?auto=format&amp;fit=max&amp;w=3840 2x\" style=\"position:absolute;top:0;left:0;bottom:0;right:0;box-sizing:border-box;padding:0;border:none;margin:auto;display:block;width:0;height:0;min-width:100%;max-width:100%;min-height:100%;max-height:100%\"/></noscript></span></span></p>,\n",
              " <p class=\"line-space\"> <br/> </p>,\n",
              " <p>Search for “Does mood interfere with the capacity to retain information” — Perplexity.AI</p>,\n",
              " <p class=\"line-space\"> <br/> </p>,\n",
              " <p class=\"line-space\"> <br/> </p>,\n",
              " <p><strong>Identify top 10 YouTube videos on the subject, download transcripts, and save them into a PDF.</strong></p>,\n",
              " <p class=\"line-space\"> <br/> </p>,\n",
              " <p>YouTube is a great resource for visual and auditory learning. I look for the most popular and well-reviewed videos.</p>,\n",
              " <p class=\"line-space\"> <br/> </p>,\n",
              " <p><strong>Why:</strong> Videos offer different perspectives and explanations, making complex topics easier to understand.</p>,\n",
              " <p class=\"line-space\"> <br/> </p>,\n",
              " <p><strong>Timeline:</strong> 4 hours. Allocate about 30 minutes per video, including time to download transcripts and take notes.</p>,\n",
              " <p class=\"line-space\"> <br/> </p>,\n",
              " <p class=\"line-space\"> <br/> </p>,\n",
              " <p><strong>Use ChatGPT to combine all the information, categorize similarities, and synthesize key points.</strong></p>,\n",
              " <p class=\"line-space\"> <br/> </p>,\n",
              " <p>I use ChatGPT to synthesize information from articles and videos, looking for common themes and important points. (this is where you use the transcripts you previously saved into PDFs).</p>,\n",
              " <p class=\"line-space\"> <br/> </p>,\n",
              " <p><strong>Why:</strong> Consolidation forms a big picture view and identifies the most important aspects of the topic.</p>,\n",
              " <p class=\"line-space\"> <br/> </p>,\n",
              " <p><strong>Timeline:</strong> 2 hours. Review and organize notes into a coherent structure.</p>,\n",
              " <p class=\"line-space\"> <br/> </p>,\n",
              " <p class=\"line-space\"> <br/> </p>,\n",
              " <p><strong>Step away from the material for a day to let the information marinate.</strong></p>,\n",
              " <p class=\"line-space\"> <br/> </p>,\n",
              " <p>Taking a break allows my brain to process the new information.</p>,\n",
              " <p class=\"line-space\"> <br/> </p>,\n",
              " <p><strong>Why:</strong> Mental breaks improve memory consolidation and <a href=\"https://hackernoon.com/why-you-should-forget-everything-you-know-about-problem-solving?ref=hackernoon.com\" rel=\"noopener noreferrer ugc\" target=\"_blank\">problem-solving</a> abilities.</p>,\n",
              " <p class=\"line-space\"> <br/> </p>,\n",
              " <p><strong>Timeline:</strong> 24 hours. Engage in relaxing or unrelated activities.</p>,\n",
              " <p class=\"line-space\"> <br/> </p>,\n",
              " <p><span class=\"highlight\">This step is crucial. Do not bypass it.</span></p>,\n",
              " <p class=\"line-space\"> <br/> </p>,\n",
              " <p class=\"line-space\"> <br/> </p>,\n",
              " <p><strong>Turn off the internet, sit down at your computer, and write everything that comes to mind.</strong></p>,\n",
              " <p class=\"line-space\"> <br/> </p>,\n",
              " <p>After the break, I write about the topic without distractions to solidify my understanding.</p>,\n",
              " <p class=\"line-space\"> <br/> </p>,\n",
              " <p><strong>Why:</strong> Writing forces articulation of thoughts clearly, reinforcing learning.</p>,\n",
              " <p class=\"line-space\"> <br/> </p>,\n",
              " <p><strong>Timeline:</strong> 4-6 hours. Write freely without worrying about perfection.</p>,\n",
              " <p class=\"line-space\"> <br/> </p>,\n",
              " <p class=\"line-space\"> <br/> </p>,\n",
              " <p><strong>Find a significant problem that this new skill or knowledge can solve. Write about it and share insights.</strong></p>,\n",
              " <p class=\"line-space\"> <br/> </p>,\n",
              " <p>I look for a real-world problem this new knowledge can solve and write about it.</p>,\n",
              " <p class=\"line-space\"> <br/> </p>,\n",
              " <p><strong>Why:</strong> Application cements learning. Solving real problems proves understanding.</p>,\n",
              " <p class=\"line-space\"> <br/> </p>,\n",
              " <p><strong>Timeline:</strong> 2 hours (minimum). Identify a problem, research how your new skill applies, and write a detailed solution.</p>,\n",
              " <p class=\"line-space\"> <br/> </p>,\n",
              " <p><strong>Total Time: 14 to 25 hours</strong> (plus a 24-hour break)</p>,\n",
              " <p class=\"line-space\"> <br/> </p>,\n",
              " <p>By following this method, you can efficiently learn new skills and knowledge in an average of 20 hours.</p>,\n",
              " <p class=\"line-space\"> <br/> </p>,\n",
              " <p>This approach is practical, focused, and designed to maximize retention and application.</p>,\n",
              " <p class=\"line-space\"> <br/> </p>,\n",
              " <p class=\"line-space\"> <br/> </p>,\n",
              " <p>A few weeks back, I wrote an article on how <a href=\"https://hackernoon.com/will-you-really-let-ai-do-the-thinking-for-you?ref=hackernoon.com\" rel=\"noopener noreferrer ugc\" target=\"_blank\">AI is killing Creativity</a>. While I stand by that, I firmly believe the tools available should be used to help you learn faster. The writing part should always be done manually.</p>,\n",
              " <p class=\"line-space\"> <br/> </p>,\n",
              " <p>ChatGPT and Perplexity.AI are incredible tools for enhancing your learning process. To recap:</p>,\n",
              " <p class=\"line-space\"> <br/> </p>,\n",
              " <p><strong>ChatGPT:</strong> Use it to break down complex topics, summarize large volumes of information, and get quick answers to specific questions.</p>,\n",
              " <p class=\"line-space\"> <br/> </p>,\n",
              " <p><strong>Perplexity.AI:</strong> This tool excels in providing cited research, making your learning more credible and in-depth, and exploring questions you didn’t think to ask.</p>,\n",
              " <p class=\"line-space\"> <br/> </p>,\n",
              " <p><strong>Write What You Learn:</strong> Keep a journal, and even better, share it with friends, family, or start a newsletter. <strong>This not only reinforces your learning</strong> <strong>but also helps others</strong>.</p>,\n",
              " <p class=\"line-space\"> <br/> </p>,\n",
              " <p><strong>Help Others:</strong> Sharing your learning will help those who are one or two steps behind you, providing a valuable free resource that solves a specific problem they are currently facing.</p>,\n",
              " <p class=\"line-space\"> <br/> </p>,\n",
              " <p><strong>Organize Your Findings:</strong> A newsletter is an excellent way to retain knowledge and create a personal library. After a year of doing this every week, you’ll have a collection of 52 newsletters with concrete tutorials and explanations on various subjects.</p>,\n",
              " <p class=\"line-space\"> <br/> </p>,\n",
              " <p>That’s 52 new things you’ve learned, multiplied by the number of people who have read it.</p>,\n",
              " <p class=\"line-space\"> <br/> </p>,\n",
              " <p>Then you could make a course, condense everything together, write a book, and self-publish it. That could be a gift to your family members, friends, or you could even sell them.</p>,\n",
              " <p class=\"line-space\"> <br/> </p>,\n",
              " <p><em><strong>If it’s valuable to you, it will be valuable information to others.</strong></em></p>,\n",
              " <p class=\"line-space\"> <br/> </p>,\n",
              " <p><em>Imagine doing this for 10 years.</em> With an average of 2000 words per article/newsletter, that’s 1,040,000 words written, enough to organize them into 13 books (+/- 80,000 words per book.) 🤯</p>,\n",
              " <p class=\"line-space\"> <br/> </p>,\n",
              " <p>That’s pretty much a mini library of your best findings and acquired knowledge you can pass along to the next generation. What an amazing gift it would be to receive as a child.</p>,\n",
              " <p class=\"line-space\"> <br/> </p>,\n",
              " <p><em>Hey Dad, I know you’ll be reading this letter. And yes.. I also know these tools weren’t available when the wheel was invented. So</em></p>,\n",
              " <p class=\"line-space\"> <br/> </p>,\n",
              " <p><span><span style=\"box-sizing:border-box;display:inline-block;overflow:hidden;width:initial;height:initial;background:none;opacity:1;border:0;margin:0;padding:0;position:relative;max-width:100%\"><span style=\"box-sizing:border-box;display:block;width:initial;height:initial;background:none;opacity:1;border:0;margin:0;padding:0;max-width:100%\"><img alt=\"\" aria-hidden=\"true\" src=\"data:image/svg+xml,%3csvg%20xmlns=%27http://www.w3.org/2000/svg%27%20version=%271.1%27%20width=%27498%27%20height=%27269%27/%3e\" style=\"display:block;max-width:100%;width:initial;height:initial;background:none;opacity:1;border:0;margin:0;padding:0\"/></span><img alt=\"\" class=\"image-container undefined\" data-nimg=\"intrinsic\" decoding=\"async\" src=\"data:image/gif;base64,R0lGODlhAQABAIAAAAAAAP///yH5BAEAAAAALAAAAAABAAEAAAIBRAA7\" style=\"position:absolute;top:0;left:0;bottom:0;right:0;box-sizing:border-box;padding:0;border:none;margin:auto;display:block;width:0;height:0;min-width:100%;max-width:100%;min-height:100%;max-height:100%\"/><noscript><img alt=\"\" class=\"image-container undefined\" data-nimg=\"intrinsic\" decoding=\"async\" loading=\"lazy\" src=\"https://hackernoon.imgix.net/images/qkXA8MX2eJScMSRNgGr3WBlDxfN2-2024-07-31T13:00:21.757Z-tusp4g16b14cii8fkngiqir2?auto=format&amp;fit=max&amp;w=1080\" srcset=\"https://hackernoon.imgix.net/images/qkXA8MX2eJScMSRNgGr3WBlDxfN2-2024-07-31T13:00:21.757Z-tusp4g16b14cii8fkngiqir2?auto=format&amp;fit=max&amp;w=640 1x, https://hackernoon.imgix.net/images/qkXA8MX2eJScMSRNgGr3WBlDxfN2-2024-07-31T13:00:21.757Z-tusp4g16b14cii8fkngiqir2?auto=format&amp;fit=max&amp;w=1080 2x\" style=\"position:absolute;top:0;left:0;bottom:0;right:0;box-sizing:border-box;padding:0;border:none;margin:auto;display:block;width:0;height:0;min-width:100%;max-width:100%;min-height:100%;max-height:100%\"/></noscript></span></span></p>,\n",
              " <p>The traditional education system has its limits, but with the New School approach, you're in control.</p>,\n",
              " <p class=\"line-space\"> <br/> </p>,\n",
              " <p>Customize your learning journey and leverage endless online resources to stay flexible and continually grow.</p>,\n",
              " <p class=\"line-space\"> <br/> </p>,\n",
              " <p><strong>Key Takeaways:</strong></p>,\n",
              " <p class=\"line-space\"> <br/> </p>,\n",
              " <p><strong>Embrace Modern Education:</strong> Tailor your learning to fit your needs and pace.</p>,\n",
              " <p class=\"line-space\"> <br/> </p>,\n",
              " <p><strong>Effective Learning Techniques:</strong> Break down skills, eliminate distractions, and commit to focused practice.</p>,\n",
              " <p class=\"line-space\"> <br/> </p>,\n",
              " <p><strong>Practical Application:</strong> Apply what you learn through real-life projects and <em>share your knowledge</em> to reinforce understanding.</p>,\n",
              " <p class=\"line-space\"> <br/> </p>,\n",
              " <p>Take charge of your education, stay curious, and keep growing. The future belongs to those who are adaptable and proactive in their learning journey.</p>,\n",
              " <p class=\"line-space\"> <br/> </p>,\n",
              " <p>Strategizingly yours,</p>,\n",
              " <p class=\"line-space\"> <br/> </p>,\n",
              " <p>Ben.</p>,\n",
              " <p class=\"line-space\"> <br/> </p>,\n",
              " <p><em>P.S. If you found this newsletter helpful, don’t be selfish. Forward it to a friend who needs to hear this message too.</em></p>,\n",
              " <p><em>P.P.S Are you that friend? Well, he of she is awesome for sharing. Why don't you</em> <em><a href=\"https://www.engineeryourexistence.com/subscribe?ref=hackernoon.com\" rel=\"noopener noreferrer ugc\" target=\"_blank\">subscribe</a></em> a<em>nd be the one spreading the wisdom next week?</em></p>,\n",
              " <p class=\"line-space\"> <br/> </p>]"
            ]
          },
          "metadata": {},
          "execution_count": 8
        }
      ]
    },
    {
      "cell_type": "code",
      "source": [
        "text = [result.text for result in results]\n",
        "ARTICLE = ' '.join(text)"
      ],
      "metadata": {
        "id": "b7HyAN72d5zo"
      },
      "execution_count": 9,
      "outputs": []
    },
    {
      "cell_type": "code",
      "source": [
        "ARTICLE"
      ],
      "metadata": {
        "colab": {
          "base_uri": "https://localhost:8080/",
          "height": 1000
        },
        "id": "EVmg4DVLgtgQ",
        "outputId": "c56be394-16da-4233-89a0-a8d055f8809e"
      },
      "execution_count": 10,
      "outputs": [
        {
          "output_type": "execute_result",
          "data": {
            "text/plain": [
              "'School is Dead. Embrace Modern Education Instead.    N.B. In my previous letter, Learn Anything Fast, I shared insights on how to quickly acquire new skills and knowledge.    Today, I want to take that a step further by introducing the concept of the \"New School\" and providing a practical framework to help you put these ideas into action.    If you haven’t read the previous letter, I’d suggest you do that first.    Let’s get into it.    I always had a dislike for school—And school seemed to have a dislike for me.    As a matter of fact, I had to start over a class year not once, but twice. I often got into trouble. My parents were frequently called in to discuss my lack of interest, poor grades, and disturbances.    Was it because I had below-average intelligence?    I hope not.    It was because I lacked trust in the education system and because I was bored.    Philosophy was my favorite class until someone ruined it for me. We were supposed to recite philosophers’ thoughts verbatim. I thought we were there to learn how to think, so I did—and got punished for it.    New ideas, expansion— they were not welcomed. The teacher argued that I was supposed to remember and recite the thoughts we learned.    Nothing more, nothing less.    Maybe I just had a lousy teacher. But my dislike for the whole school system was deep-rooted.    I didn’t get the rigid rules. No room for self-exploration, sharing ideas, or collaboration.    I also did not understand the skills that they were trying to teach us. It was like they were just preparing us to obey, follow directions, learn and recite.    Were they preparing us to be employees and not think for ourselves?  As I grew older, I discovered that I wasn\\'t alone.    People are losing trust in the education system. I would argue they never truly had trust in it; it was just the only option they knew/was available.    I learned most of the information I actually use and profit from online, not from school.    If you want a limited income, stick to the conventional route. But if you want an unlimited income, embrace the digital route and self education. Everything you need is available online. Most of it is free.    I built my real estate investment firm from various websites, blog posts, a couple of masterminds, and paid courses.    YouTube: I learned to build a custom CRM system from scratch, using detailed tutorials available for free. What was available did not fit my very specific business model, so I went and created my own.    Paid and Free Courses: I invested in courses that taught me SEO, digital marketing strategies, and advanced real estate tactics.    Articles and Blogs: Countless articles newsletters and social media platforms have provided me with the latest industry trends, helping my company stay ahead of the curve.    Masterminds: I joined 4 masterminds, which allowed me to meet my initial partners and acquire my first apartment building, learn how to hire and fire effectively, and scale to 7 figures in under 30 months.    These resources have been invaluable, providing practical, up-to-date information that I could immediately apply to my business. Traditional education dumps a lot of theory on us with little practical use. It’s one-size-fits-all and doesn’t adapt to individual needs or changing industries.    This rigidity means that many people leave school feeling unprepared for the real world, armed with outdated knowledge and skills.    School doesn’t teach you how to make or manage money.    School doesn’t teach you how to find your zone of genius, or how to find your life’s work.    Most classes are taught by teachers who’ve never done what they’re teaching. None of my business teachers ever founded a successful company.    Why would you want to learn how to build a business from someone who never built a business? Online platforms have tons of courses and materials.    You can tailor your learning to fit your needs.    Learn at your own pace    Tackle tough topics again    Use what you learn right away.    Learn what you need, when you need it.    Skip the stuff you don’t.    The best part is, you can learn from someone just a couple of steps ahead of you, someone who’s just solved the problem you’re facing.    It’s all about getting those specific, actionable solutions that keep you moving forward quickly.    Be the boss of your own education.    Now, I can already hear you say that online learning isn’t as credible as traditional degrees or that it takes a lot of self-discipline.    Finding good content can be a pain. But if you know how to sort through the crap, it’s actually pretty simple.    You need to:    Identify Your Goals: Define what you want to achieve and set clear learning objectives.    Curate Resources: Pin Point reputable sources like YouTube channels, paid courses, and informative articles.    Use AI: to help you speed up the process of gathering and sorting through large amounts of data.    Schedule Learning Time: Dedicate specific times for learning to build a consistent routine.    Engage with the Community: Join forums, groups, and networks related to your field of interest to share insights and gain support.    Apply Knowledge: Implement what you learn through real-life projects and practical applications.    Now that you have an understanding of the approach, let me show you my exact process of learning.       Here’s a step-by-step guide, going beyond the basics to give you a comprehensive framework.     I’ll walk you through each step, and a timeline to keep it all under (an average of*) 20 hours—not including the mandatory 24 hour break.       Start with a broad search to gather initial information and understand the basics.    When I dive into a new topic, I start with a Google search. I type in main keywords and skim the first few articles for a general idea. This isn’t about going deep yet; it’s about getting a lay of the land.    Why: Understand the scope, common terms, and key concepts. Map out the territory without gathering all details.    Timeline: 1 hour. Set a timer and avoid going deep into any single source. Aim for breadth, not depth.    I might have to revisit this list shortly because ChatGPT is releasing SearchGPT, which might reorder this considerably. I am currently on the waitlist, so stay tuned for that.           Input articles into ChatGPT to get a Minimum Viable Understanding (MVU), focusing on common vocabulary and concepts.    I take promising articles from my Google search and feed them into ChatGPT. I ask it to summarize key points and explain jargon.    Why: Speed up comprehension, breaking down complex info into digestible chunks.    Timeline: 30 minutes to 1 hour.       This is where it gets interesting..    Use Perplexity.AI for cited research and additional depth, ensuring credible and well-rounded information.    With a basic understanding in place, I use Perplexity.AI to provide cited sources and detailed explanations.    Why: Depth of knowledge is crucial for mastering a topic. This step broadens understanding and highlights connections.    Timeline: 4 hours. Explore different sources, take notes, and verify information.    This step is longer because the tool suggests additional questions that you may not have thought of, increasing your chances of going down a rabbit hole—which is good. Example:     Search for “Does mood interfere with the capacity to retain information” — Perplexity.AI       Identify top 10 YouTube videos on the subject, download transcripts, and save them into a PDF.    YouTube is a great resource for visual and auditory learning. I look for the most popular and well-reviewed videos.    Why: Videos offer different perspectives and explanations, making complex topics easier to understand.    Timeline: 4 hours. Allocate about 30 minutes per video, including time to download transcripts and take notes.       Use ChatGPT to combine all the information, categorize similarities, and synthesize key points.    I use ChatGPT to synthesize information from articles and videos, looking for common themes and important points. (this is where you use the transcripts you previously saved into PDFs).    Why: Consolidation forms a big picture view and identifies the most important aspects of the topic.    Timeline: 2 hours. Review and organize notes into a coherent structure.       Step away from the material for a day to let the information marinate.    Taking a break allows my brain to process the new information.    Why: Mental breaks improve memory consolidation and problem-solving abilities.    Timeline: 24 hours. Engage in relaxing or unrelated activities.    This step is crucial. Do not bypass it.       Turn off the internet, sit down at your computer, and write everything that comes to mind.    After the break, I write about the topic without distractions to solidify my understanding.    Why: Writing forces articulation of thoughts clearly, reinforcing learning.    Timeline: 4-6 hours. Write freely without worrying about perfection.       Find a significant problem that this new skill or knowledge can solve. Write about it and share insights.    I look for a real-world problem this new knowledge can solve and write about it.    Why: Application cements learning. Solving real problems proves understanding.    Timeline: 2 hours (minimum). Identify a problem, research how your new skill applies, and write a detailed solution.    Total Time: 14 to 25 hours (plus a 24-hour break)    By following this method, you can efficiently learn new skills and knowledge in an average of 20 hours.    This approach is practical, focused, and designed to maximize retention and application.       A few weeks back, I wrote an article on how AI is killing Creativity. While I stand by that, I firmly believe the tools available should be used to help you learn faster. The writing part should always be done manually.    ChatGPT and Perplexity.AI are incredible tools for enhancing your learning process. To recap:    ChatGPT: Use it to break down complex topics, summarize large volumes of information, and get quick answers to specific questions.    Perplexity.AI: This tool excels in providing cited research, making your learning more credible and in-depth, and exploring questions you didn’t think to ask.    Write What You Learn: Keep a journal, and even better, share it with friends, family, or start a newsletter. This not only reinforces your learning\\xa0but also helps others.    Help Others: Sharing your learning will help those who are one or two steps behind you, providing a valuable free resource that solves a specific problem they are currently facing.    Organize Your Findings: A newsletter is an excellent way to retain knowledge and create a personal library. After a year of doing this every week, you’ll have a collection of 52 newsletters with concrete tutorials and explanations on various subjects.    That’s 52 new things you’ve learned, multiplied by the number of people who have read it.    Then you could make a course, condense everything together, write a book, and self-publish it. That could be a gift to your family members, friends, or you could even sell them.    If it’s valuable to you, it will be valuable information to others.    Imagine doing this for 10 years. With an average of 2000 words per article/newsletter, that’s 1,040,000 words written, enough to organize them into 13 books (+/- 80,000 words per book.) 🤯    That’s pretty much a mini library of your best findings and acquired knowledge you can pass along to the next generation. What an amazing gift it would be to receive as a child.    Hey Dad, I know you’ll be reading this letter. And yes.. I also know these tools weren’t available when the wheel was invented. So     The traditional education system has its limits, but with the New School approach, you\\'re in control.    Customize your learning journey and leverage endless online resources to stay flexible and continually grow.    Key Takeaways:    Embrace Modern Education: Tailor your learning to fit your needs and pace.    Effective Learning Techniques: Break down skills, eliminate distractions, and commit to focused practice.    Practical Application: Apply what you learn through real-life projects and share your knowledge to reinforce understanding.    Take charge of your education, stay curious, and keep growing. The future belongs to those who are adaptable and proactive in their learning journey.    Strategizingly yours,    Ben.    P.S. If you found this newsletter helpful, don’t be selfish. Forward it to a friend who needs to hear this message too. P.P.S Are you that friend? Well, he of she is awesome for sharing. Why don\\'t you subscribe\\xa0and be the one spreading the wisdom next week?   '"
            ],
            "application/vnd.google.colaboratory.intrinsic+json": {
              "type": "string"
            }
          },
          "metadata": {},
          "execution_count": 10
        }
      ]
    },
    {
      "cell_type": "markdown",
      "source": [
        "## 4- Chunk Text"
      ],
      "metadata": {
        "id": "Wx5iM-xmP4BZ"
      }
    },
    {
      "cell_type": "code",
      "source": [
        "ARTICLE = ARTICLE.replace('.', '.<eos>')\n",
        "ARTICLE = ARTICLE.replace('?', '?<eos>')\n",
        "ARTICLE = ARTICLE.replace('!', '!<eos>')"
      ],
      "metadata": {
        "id": "p8nKeloQguSz"
      },
      "execution_count": 11,
      "outputs": []
    },
    {
      "cell_type": "code",
      "source": [
        "sentences = ARTICLE.split('<eos>')"
      ],
      "metadata": {
        "id": "Jwst_GNdQZEw"
      },
      "execution_count": 12,
      "outputs": []
    },
    {
      "cell_type": "code",
      "source": [
        "sentences[12]"
      ],
      "metadata": {
        "colab": {
          "base_uri": "https://localhost:8080/",
          "height": 36
        },
        "id": "fki7PcWKQdsw",
        "outputId": "f1f497a4-28ff-4821-c426-3d46b9b9d14d"
      },
      "execution_count": 13,
      "outputs": [
        {
          "output_type": "execute_result",
          "data": {
            "text/plain": [
              "'    Was it because I had below-average intelligence?'"
            ],
            "application/vnd.google.colaboratory.intrinsic+json": {
              "type": "string"
            }
          },
          "metadata": {},
          "execution_count": 13
        }
      ]
    },
    {
      "cell_type": "code",
      "source": [
        "max_chunk = 500\n",
        "current_chunk = 0\n",
        "chunks = []\n",
        "for sentence in sentences:\n",
        "    if len(chunks) == current_chunk + 1:\n",
        "        if len(chunks[current_chunk]) + len(sentence.split(' ')) <= max_chunk:\n",
        "            chunks[current_chunk].extend(sentence.split(' '))\n",
        "        else:\n",
        "            current_chunk += 1\n",
        "            chunks.append(sentence.split(' '))\n",
        "    else:\n",
        "        print(current_chunk)\n",
        "        chunks.append(sentence.split(' '))\n",
        "\n",
        "for chunk_id in range(len(chunks)):\n",
        "    chunks[chunk_id] = ' '.join(chunks[chunk_id])"
      ],
      "metadata": {
        "id": "gPIwW7KDQiEl",
        "colab": {
          "base_uri": "https://localhost:8080/"
        },
        "outputId": "c9ca3fad-372e-4347-b8d2-9454a90f0911"
      },
      "execution_count": 31,
      "outputs": [
        {
          "output_type": "stream",
          "name": "stdout",
          "text": [
            "0\n"
          ]
        }
      ]
    },
    {
      "cell_type": "code",
      "source": [
        "len(chunks)\n"
      ],
      "metadata": {
        "colab": {
          "base_uri": "https://localhost:8080/"
        },
        "id": "7mTbHF4cZ6y-",
        "outputId": "99f1bbd8-9475-49a8-a0a7-5b11edffdf9f"
      },
      "execution_count": 32,
      "outputs": [
        {
          "output_type": "execute_result",
          "data": {
            "text/plain": [
              "6"
            ]
          },
          "metadata": {},
          "execution_count": 32
        }
      ]
    },
    {
      "cell_type": "code",
      "source": [
        "chunks[2]"
      ],
      "metadata": {
        "colab": {
          "base_uri": "https://localhost:8080/",
          "height": 163
        },
        "id": "sK88sS0JaYXw",
        "outputId": "2053db06-7b77-4df0-f1d1-116998d6c2cf"
      },
      "execution_count": 33,
      "outputs": [
        {
          "output_type": "execute_result",
          "data": {
            "text/plain": [
              "'    Curate Resources: Pin Point reputable sources like YouTube channels, paid courses, and informative articles.     Use AI: to help you speed up the process of gathering and sorting through large amounts of data.     Schedule Learning Time: Dedicate specific times for learning to build a consistent routine.     Engage with the Community: Join forums, groups, and networks related to your field of interest to share insights and gain support.     Apply Knowledge: Implement what you learn through real-life projects and practical applications.     Now that you have an understanding of the approach, let me show you my exact process of learning.        Here’s a step-by-step guide, going beyond the basics to give you a comprehensive framework.      I’ll walk you through each step, and a timeline to keep it all under (an average of*) 20 hours—not including the mandatory 24 hour break.        Start with a broad search to gather initial information and understand the basics.     When I dive into a new topic, I start with a Google search.  I type in main keywords and skim the first few articles for a general idea.  This isn’t about going deep yet; it’s about getting a lay of the land.     Why: Understand the scope, common terms, and key concepts.  Map out the territory without gathering all details.     Timeline: 1 hour.  Set a timer and avoid going deep into any single source.  Aim for breadth, not depth.     I might have to revisit this list shortly because ChatGPT is releasing SearchGPT, which might reorder this considerably.  I am currently on the waitlist, so stay tuned for that.            Input articles into ChatGPT to get a Minimum Viable Understanding (MVU), focusing on common vocabulary and concepts.     I take promising articles from my Google search and feed them into ChatGPT.  I ask it to summarize key points and explain jargon.     Why: Speed up comprehension, breaking down complex info into digestible chunks.     Timeline: 30 minutes to 1 hour.        This is where it gets interesting. .     Use Perplexity. AI for cited research and additional depth, ensuring credible and well-rounded information.     With a basic understanding in place, I use Perplexity. AI to provide cited sources and detailed explanations.     Why: Depth of knowledge is crucial for mastering a topic.  This step broadens understanding and highlights connections.     Timeline: 4 hours.  Explore different sources, take notes, and verify information.'"
            ],
            "application/vnd.google.colaboratory.intrinsic+json": {
              "type": "string"
            }
          },
          "metadata": {},
          "execution_count": 33
        }
      ]
    },
    {
      "cell_type": "markdown",
      "source": [
        "## 5- Summarize Text"
      ],
      "metadata": {
        "id": "2nLbG0dzhRPC"
      }
    },
    {
      "cell_type": "code",
      "source": [
        "results = Summarizer(chunks, max_length=120, min_length=30, do_sample=False)\n"
      ],
      "metadata": {
        "id": "S9p_uic9ahjO"
      },
      "execution_count": 34,
      "outputs": []
    },
    {
      "cell_type": "code",
      "source": [
        "results[0]"
      ],
      "metadata": {
        "colab": {
          "base_uri": "https://localhost:8080/"
        },
        "id": "ZCzhr4n0hVuT",
        "outputId": "a8132686-74b6-458d-abb6-02857d981073"
      },
      "execution_count": 35,
      "outputs": [
        {
          "output_type": "execute_result",
          "data": {
            "text/plain": [
              "{'summary_text': ' In his previous letter, Learn Anything Fast, I shared insights on how to quickly acquire new skills and knowledge . Today, I want to take that a step further by introducing the concept of the \"New School\" and providing a practical framework .'}"
            ]
          },
          "metadata": {},
          "execution_count": 35
        }
      ]
    },
    {
      "cell_type": "code",
      "source": [
        "text =' '.join([res['summary_text'] for res in results])\n"
      ],
      "metadata": {
        "id": "MIiIm1WSijBM"
      },
      "execution_count": 39,
      "outputs": []
    },
    {
      "cell_type": "code",
      "source": [
        "with open('blogsummary.txt', 'w') as f:\n",
        "  f.write(text)"
      ],
      "metadata": {
        "id": "3rp8VzOKi3NN"
      },
      "execution_count": 40,
      "outputs": []
    },
    {
      "cell_type": "code",
      "source": [],
      "metadata": {
        "id": "7GUvnJd_jKgr"
      },
      "execution_count": null,
      "outputs": []
    }
  ]
}